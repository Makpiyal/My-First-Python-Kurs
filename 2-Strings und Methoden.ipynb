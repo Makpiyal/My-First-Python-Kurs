{
 "cells": [
  {
   "cell_type": "code",
   "execution_count": 1,
   "id": "153c6e6a",
   "metadata": {},
   "outputs": [
    {
     "data": {
      "text/plain": [
       "'Hello World'"
      ]
     },
     "execution_count": 1,
     "metadata": {},
     "output_type": "execute_result"
    }
   ],
   "source": [
    "\"Hello World\""
   ]
  },
  {
   "cell_type": "code",
   "execution_count": 2,
   "id": "5ddcc3ba",
   "metadata": {},
   "outputs": [
    {
     "name": "stdout",
     "output_type": "stream",
     "text": [
      "Hello World\n"
     ]
    }
   ],
   "source": [
    "print(\"Hello World\")"
   ]
  },
  {
   "cell_type": "code",
   "execution_count": 3,
   "id": "703208f0",
   "metadata": {},
   "outputs": [
    {
     "name": "stdout",
     "output_type": "stream",
     "text": [
      "Hello Python\n"
     ]
    }
   ],
   "source": [
    "print(\"Hello Python\")"
   ]
  },
  {
   "cell_type": "code",
   "execution_count": 4,
   "id": "b5084220",
   "metadata": {},
   "outputs": [],
   "source": [
    "name = \"Muhammed\""
   ]
  },
  {
   "cell_type": "code",
   "execution_count": 5,
   "id": "8d79e256",
   "metadata": {},
   "outputs": [
    {
     "data": {
      "text/plain": [
       "'Muhammed'"
      ]
     },
     "execution_count": 5,
     "metadata": {},
     "output_type": "execute_result"
    }
   ],
   "source": [
    "name"
   ]
  },
  {
   "cell_type": "code",
   "execution_count": 6,
   "id": "ac35e591",
   "metadata": {},
   "outputs": [
    {
     "data": {
      "text/plain": [
       "str"
      ]
     },
     "execution_count": 6,
     "metadata": {},
     "output_type": "execute_result"
    }
   ],
   "source": [
    "type(name)"
   ]
  },
  {
   "cell_type": "code",
   "execution_count": 7,
   "id": "5fb33a43",
   "metadata": {},
   "outputs": [
    {
     "data": {
      "text/plain": [
       "'PARADOX'"
      ]
     },
     "execution_count": 7,
     "metadata": {},
     "output_type": "execute_result"
    }
   ],
   "source": [
    "'PARADOX'"
   ]
  },
  {
   "cell_type": "code",
   "execution_count": 8,
   "id": "f60504ac",
   "metadata": {},
   "outputs": [
    {
     "data": {
      "text/plain": [
       "'PARADOX'"
      ]
     },
     "execution_count": 8,
     "metadata": {},
     "output_type": "execute_result"
    }
   ],
   "source": [
    "\"PARADOX\""
   ]
  },
  {
   "cell_type": "code",
   "execution_count": 9,
   "id": "1da8dd5d",
   "metadata": {},
   "outputs": [
    {
     "data": {
      "text/plain": [
       "'Muhammed'"
      ]
     },
     "execution_count": 9,
     "metadata": {},
     "output_type": "execute_result"
    }
   ],
   "source": [
    "name"
   ]
  },
  {
   "cell_type": "code",
   "execution_count": 10,
   "id": "8ad9f37c",
   "metadata": {},
   "outputs": [],
   "source": [
    "name = \"Sanane\""
   ]
  },
  {
   "cell_type": "code",
   "execution_count": 11,
   "id": "43e982b0",
   "metadata": {},
   "outputs": [
    {
     "data": {
      "text/plain": [
       "'Sanane'"
      ]
     },
     "execution_count": 11,
     "metadata": {},
     "output_type": "execute_result"
    }
   ],
   "source": [
    "name"
   ]
  },
  {
   "cell_type": "code",
   "execution_count": 12,
   "id": "7f2883d4",
   "metadata": {},
   "outputs": [],
   "source": [
    "name = \"Das ist mein blog\""
   ]
  },
  {
   "cell_type": "code",
   "execution_count": 13,
   "id": "9ff27a61",
   "metadata": {},
   "outputs": [
    {
     "data": {
      "text/plain": [
       "'Das ist mein blog'"
      ]
     },
     "execution_count": 13,
     "metadata": {},
     "output_type": "execute_result"
    }
   ],
   "source": [
    "name.capitalize()"
   ]
  },
  {
   "cell_type": "code",
   "execution_count": 14,
   "id": "ff142822",
   "metadata": {},
   "outputs": [],
   "source": [
    "#capitalize() methodu, die Capitalize Methode() macht den ersten Buchstaben des geschriebenen Satzes groß."
   ]
  },
  {
   "cell_type": "code",
   "execution_count": 15,
   "id": "cea19bc8",
   "metadata": {},
   "outputs": [],
   "source": [
    "hallo = \"monkey island\""
   ]
  },
  {
   "cell_type": "code",
   "execution_count": 16,
   "id": "df747f3a",
   "metadata": {},
   "outputs": [
    {
     "data": {
      "text/plain": [
       "'Monkey island'"
      ]
     },
     "execution_count": 16,
     "metadata": {},
     "output_type": "execute_result"
    }
   ],
   "source": [
    "hallo.capitalize()"
   ]
  },
  {
   "cell_type": "code",
   "execution_count": 17,
   "id": "a4105383",
   "metadata": {},
   "outputs": [
    {
     "data": {
      "text/plain": [
       "<function str.capitalize()>"
      ]
     },
     "execution_count": 17,
     "metadata": {},
     "output_type": "execute_result"
    }
   ],
   "source": [
    "hallo.capitalize"
   ]
  },
  {
   "cell_type": "code",
   "execution_count": 18,
   "id": "4fc38d32",
   "metadata": {},
   "outputs": [],
   "source": [
    "x = 10"
   ]
  },
  {
   "cell_type": "code",
   "execution_count": 20,
   "id": "cad7e6b2",
   "metadata": {},
   "outputs": [
    {
     "data": {
      "text/plain": [
       "int"
      ]
     },
     "execution_count": 20,
     "metadata": {},
     "output_type": "execute_result"
    }
   ],
   "source": [
    "type(x)"
   ]
  },
  {
   "cell_type": "code",
   "execution_count": 21,
   "id": "f4c9d962",
   "metadata": {},
   "outputs": [
    {
     "data": {
      "text/plain": [
       "'Das ist mein blog'"
      ]
     },
     "execution_count": 21,
     "metadata": {},
     "output_type": "execute_result"
    }
   ],
   "source": [
    "name"
   ]
  },
  {
   "cell_type": "code",
   "execution_count": 22,
   "id": "e0a33953",
   "metadata": {},
   "outputs": [
    {
     "name": "stdout",
     "output_type": "stream",
     "text": [
      "Help on built-in function count:\n",
      "\n",
      "count(...) method of builtins.str instance\n",
      "    S.count(sub[, start[, end]]) -> int\n",
      "    \n",
      "    Return the number of non-overlapping occurrences of substring sub in\n",
      "    string S[start:end].  Optional arguments start and end are\n",
      "    interpreted as in slice notation.\n",
      "\n"
     ]
    }
   ],
   "source": [
    "help(name.count)"
   ]
  },
  {
   "cell_type": "code",
   "execution_count": 23,
   "id": "132cd29e",
   "metadata": {},
   "outputs": [
    {
     "name": "stdout",
     "output_type": "stream",
     "text": [
      "Help on built-in function capitalize:\n",
      "\n",
      "capitalize() method of builtins.str instance\n",
      "    Return a capitalized version of the string.\n",
      "    \n",
      "    More specifically, make the first character have upper case and the rest lower\n",
      "    case.\n",
      "\n"
     ]
    }
   ],
   "source": [
    "help(name.capitalize)"
   ]
  },
  {
   "cell_type": "code",
   "execution_count": 24,
   "id": "a66f9ab2",
   "metadata": {},
   "outputs": [
    {
     "data": {
      "text/plain": [
       "1"
      ]
     },
     "execution_count": 24,
     "metadata": {},
     "output_type": "execute_result"
    }
   ],
   "source": [
    "name.count(\"a\")"
   ]
  },
  {
   "cell_type": "code",
   "execution_count": 26,
   "id": "403702a1",
   "metadata": {},
   "outputs": [
    {
     "data": {
      "text/plain": [
       "0"
      ]
     },
     "execution_count": 26,
     "metadata": {},
     "output_type": "execute_result"
    }
   ],
   "source": [
    "name.count(\"1\")"
   ]
  },
  {
   "cell_type": "code",
   "execution_count": null,
   "id": "c93f4c4b",
   "metadata": {},
   "outputs": [],
   "source": [
    "# .upper methode macht alle buchstabe des Satzes Groß"
   ]
  },
  {
   "cell_type": "code",
   "execution_count": 28,
   "id": "766cc6c0",
   "metadata": {},
   "outputs": [
    {
     "data": {
      "text/plain": [
       "'DAS IST MEIN BLOG'"
      ]
     },
     "execution_count": 28,
     "metadata": {},
     "output_type": "execute_result"
    }
   ],
   "source": [
    "name.upper()"
   ]
  },
  {
   "cell_type": "code",
   "execution_count": 29,
   "id": "148d9898",
   "metadata": {},
   "outputs": [
    {
     "data": {
      "text/plain": [
       "'Das ist mein blog'"
      ]
     },
     "execution_count": 29,
     "metadata": {},
     "output_type": "execute_result"
    }
   ],
   "source": [
    "name"
   ]
  },
  {
   "cell_type": "code",
   "execution_count": 30,
   "id": "27d32723",
   "metadata": {},
   "outputs": [],
   "source": [
    "nameUpper = name.upper()"
   ]
  },
  {
   "cell_type": "code",
   "execution_count": 31,
   "id": "b74e5ad4",
   "metadata": {},
   "outputs": [
    {
     "data": {
      "text/plain": [
       "'DAS IST MEIN BLOG'"
      ]
     },
     "execution_count": 31,
     "metadata": {},
     "output_type": "execute_result"
    }
   ],
   "source": [
    "nameUpper"
   ]
  },
  {
   "cell_type": "code",
   "execution_count": 32,
   "id": "a3702268",
   "metadata": {},
   "outputs": [
    {
     "name": "stdout",
     "output_type": "stream",
     "text": [
      "Help on built-in function upper:\n",
      "\n",
      "upper() method of builtins.str instance\n",
      "    Return a copy of the string converted to uppercase.\n",
      "\n"
     ]
    }
   ],
   "source": [
    "help(name.upper)"
   ]
  },
  {
   "cell_type": "code",
   "execution_count": 33,
   "id": "897f0e42",
   "metadata": {},
   "outputs": [],
   "source": [
    "# length funktion (Die length funktion gibt uns die Länge des textes zurück)"
   ]
  },
  {
   "cell_type": "code",
   "execution_count": 37,
   "id": "d292c4e5",
   "metadata": {},
   "outputs": [
    {
     "data": {
      "text/plain": [
       "17"
      ]
     },
     "execution_count": 37,
     "metadata": {},
     "output_type": "execute_result"
    }
   ],
   "source": [
    "len(name)"
   ]
  },
  {
   "cell_type": "code",
   "execution_count": 41,
   "id": "4847aa72",
   "metadata": {},
   "outputs": [],
   "source": [
    "# \\n -> new line"
   ]
  },
  {
   "cell_type": "code",
   "execution_count": 40,
   "id": "cc52741a",
   "metadata": {},
   "outputs": [],
   "source": [
    "# \\n Ausdruck bedeutet einen Zeilenumbruch."
   ]
  },
  {
   "cell_type": "code",
   "execution_count": 39,
   "id": "27ae4a4c",
   "metadata": {},
   "outputs": [
    {
     "name": "stdout",
     "output_type": "stream",
     "text": [
      "Muhammed \n",
      "Akpiyal\n"
     ]
    }
   ],
   "source": [
    "print(\"Muhammed \\nAkpiyal\")"
   ]
  },
  {
   "cell_type": "code",
   "execution_count": 43,
   "id": "cf4befab",
   "metadata": {},
   "outputs": [],
   "source": [
    "# \\t -> tab"
   ]
  },
  {
   "cell_type": "code",
   "execution_count": 42,
   "id": "bd1a3425",
   "metadata": {},
   "outputs": [],
   "source": [
    "#escape charachters (Fluchtzeichen) das zwischen zwei wörten ein leerzeichen setzt."
   ]
  },
  {
   "cell_type": "code",
   "execution_count": 49,
   "id": "f7b59b25",
   "metadata": {},
   "outputs": [
    {
     "name": "stdout",
     "output_type": "stream",
     "text": [
      "Muhammed \tAkpiyal\n"
     ]
    }
   ],
   "source": [
    "print(\"Muhammed \\tAkpiyal\")"
   ]
  },
  {
   "cell_type": "markdown",
   "id": "fe0639e3",
   "metadata": {},
   "source": [
    "# index"
   ]
  },
  {
   "cell_type": "code",
   "execution_count": null,
   "id": "df1f3faf",
   "metadata": {},
   "outputs": [],
   "source": [
    "# index Methode[] Diese Methode gibt uns den Wert zurück, der an der zugewiesenen Indexposition gefunden wird.\""
   ]
  },
  {
   "cell_type": "code",
   "execution_count": 50,
   "id": "bb5db4c0",
   "metadata": {},
   "outputs": [],
   "source": [
    "myString = \"hello python\""
   ]
  },
  {
   "cell_type": "code",
   "execution_count": 51,
   "id": "b8c28672",
   "metadata": {},
   "outputs": [
    {
     "data": {
      "text/plain": [
       "'hello python'"
      ]
     },
     "execution_count": 51,
     "metadata": {},
     "output_type": "execute_result"
    }
   ],
   "source": [
    "myString"
   ]
  },
  {
   "cell_type": "code",
   "execution_count": 56,
   "id": "93cccad0",
   "metadata": {},
   "outputs": [
    {
     "data": {
      "text/plain": [
       "'o'"
      ]
     },
     "execution_count": 56,
     "metadata": {},
     "output_type": "execute_result"
    }
   ],
   "source": [
    "myString[4]"
   ]
  },
  {
   "cell_type": "code",
   "execution_count": 63,
   "id": "59992317",
   "metadata": {},
   "outputs": [
    {
     "data": {
      "text/plain": [
       "'h'"
      ]
     },
     "execution_count": 63,
     "metadata": {},
     "output_type": "execute_result"
    }
   ],
   "source": [
    "myString[0]"
   ]
  },
  {
   "cell_type": "code",
   "execution_count": 64,
   "id": "e5068f93",
   "metadata": {},
   "outputs": [
    {
     "data": {
      "text/plain": [
       "12"
      ]
     },
     "execution_count": 64,
     "metadata": {},
     "output_type": "execute_result"
    }
   ],
   "source": [
    "len(myString)"
   ]
  },
  {
   "cell_type": "code",
   "execution_count": 65,
   "id": "ca1563b6",
   "metadata": {},
   "outputs": [
    {
     "data": {
      "text/plain": [
       "11"
      ]
     },
     "execution_count": 65,
     "metadata": {},
     "output_type": "execute_result"
    }
   ],
   "source": [
    "len(myString) -1"
   ]
  },
  {
   "cell_type": "code",
   "execution_count": 66,
   "id": "65b638c1",
   "metadata": {},
   "outputs": [],
   "source": [
    "myName = \"james hetfield\""
   ]
  },
  {
   "cell_type": "code",
   "execution_count": 70,
   "id": "d3577578",
   "metadata": {},
   "outputs": [
    {
     "data": {
      "text/plain": [
       "'d'"
      ]
     },
     "execution_count": 70,
     "metadata": {},
     "output_type": "execute_result"
    }
   ],
   "source": [
    "myName[len(myName)-1]"
   ]
  },
  {
   "cell_type": "code",
   "execution_count": 71,
   "id": "e59b4b6b",
   "metadata": {},
   "outputs": [],
   "source": [
    "Forever = \"i must gewinnen\""
   ]
  },
  {
   "cell_type": "code",
   "execution_count": 72,
   "id": "fbc39176",
   "metadata": {},
   "outputs": [
    {
     "data": {
      "text/plain": [
       "'n'"
      ]
     },
     "execution_count": 72,
     "metadata": {},
     "output_type": "execute_result"
    }
   ],
   "source": [
    "Forever[len(Forever)-1]"
   ]
  },
  {
   "cell_type": "code",
   "execution_count": 75,
   "id": "0550ab21",
   "metadata": {},
   "outputs": [
    {
     "data": {
      "text/plain": [
       "'w'"
      ]
     },
     "execution_count": 75,
     "metadata": {},
     "output_type": "execute_result"
    }
   ],
   "source": [
    "Forever[len(Forever)-6]"
   ]
  },
  {
   "cell_type": "code",
   "execution_count": 78,
   "id": "853251bc",
   "metadata": {},
   "outputs": [
    {
     "data": {
      "text/plain": [
       "'d'"
      ]
     },
     "execution_count": 78,
     "metadata": {},
     "output_type": "execute_result"
    }
   ],
   "source": [
    "myName[-1]"
   ]
  },
  {
   "cell_type": "code",
   "execution_count": 79,
   "id": "6e5a2bf9",
   "metadata": {},
   "outputs": [
    {
     "data": {
      "text/plain": [
       "'l'"
      ]
     },
     "execution_count": 79,
     "metadata": {},
     "output_type": "execute_result"
    }
   ],
   "source": [
    "myName[-2]"
   ]
  },
  {
   "cell_type": "code",
   "execution_count": 80,
   "id": "92b41739",
   "metadata": {},
   "outputs": [
    {
     "data": {
      "text/plain": [
       "'n'"
      ]
     },
     "execution_count": 80,
     "metadata": {},
     "output_type": "execute_result"
    }
   ],
   "source": [
    "Forever[-1]"
   ]
  },
  {
   "cell_type": "code",
   "execution_count": 81,
   "id": "ba6d8087",
   "metadata": {},
   "outputs": [],
   "source": [
    "barcode = \"ABCDE1231454\""
   ]
  },
  {
   "cell_type": "code",
   "execution_count": 82,
   "id": "a06df71f",
   "metadata": {},
   "outputs": [
    {
     "data": {
      "text/plain": [
       "'AB'"
      ]
     },
     "execution_count": 82,
     "metadata": {},
     "output_type": "execute_result"
    }
   ],
   "source": [
    "\"A\" + \"B\""
   ]
  },
  {
   "cell_type": "code",
   "execution_count": 83,
   "id": "2eff5038",
   "metadata": {},
   "outputs": [],
   "source": [
    "name = \"Muhammed\""
   ]
  },
  {
   "cell_type": "code",
   "execution_count": 84,
   "id": "7b6ac6b2",
   "metadata": {},
   "outputs": [],
   "source": [
    "surname = \"Akpiyal\""
   ]
  },
  {
   "cell_type": "code",
   "execution_count": 85,
   "id": "572d4045",
   "metadata": {},
   "outputs": [],
   "source": [
    "fullname = name + \" \" + surname"
   ]
  },
  {
   "cell_type": "code",
   "execution_count": 86,
   "id": "0fb2b90f",
   "metadata": {},
   "outputs": [
    {
     "data": {
      "text/plain": [
       "'Muhammed Akpiyal'"
      ]
     },
     "execution_count": 86,
     "metadata": {},
     "output_type": "execute_result"
    }
   ],
   "source": [
    "fullname"
   ]
  },
  {
   "cell_type": "code",
   "execution_count": 87,
   "id": "e3a3b252",
   "metadata": {},
   "outputs": [
    {
     "data": {
      "text/plain": [
       "'Muhammed AkpiyalMuhammed AkpiyalMuhammed AkpiyalMuhammed AkpiyalMuhammed Akpiyal'"
      ]
     },
     "execution_count": 87,
     "metadata": {},
     "output_type": "execute_result"
    }
   ],
   "source": [
    "fullname * 5"
   ]
  },
  {
   "cell_type": "code",
   "execution_count": 91,
   "id": "41afd5f3",
   "metadata": {},
   "outputs": [
    {
     "data": {
      "text/plain": [
       "'ABC'"
      ]
     },
     "execution_count": 91,
     "metadata": {},
     "output_type": "execute_result"
    }
   ],
   "source": [
    "barcode[0] + barcode[1] + barcode[2] "
   ]
  },
  {
   "cell_type": "code",
   "execution_count": 92,
   "id": "9fee53f0",
   "metadata": {},
   "outputs": [],
   "source": [
    "#slicing, starting index, stopping index, stepping size"
   ]
  },
  {
   "cell_type": "code",
   "execution_count": 93,
   "id": "30636aa8",
   "metadata": {},
   "outputs": [
    {
     "data": {
      "text/plain": [
       "'ABCDE1231454'"
      ]
     },
     "execution_count": 93,
     "metadata": {},
     "output_type": "execute_result"
    }
   ],
   "source": [
    "barcode"
   ]
  },
  {
   "cell_type": "code",
   "execution_count": 94,
   "id": "041a21cc",
   "metadata": {},
   "outputs": [
    {
     "data": {
      "text/plain": [
       "'ABCDE1231454'"
      ]
     },
     "execution_count": 94,
     "metadata": {},
     "output_type": "execute_result"
    }
   ],
   "source": [
    "barcode[::]"
   ]
  },
  {
   "cell_type": "code",
   "execution_count": 96,
   "id": "5d72813c",
   "metadata": {},
   "outputs": [],
   "source": [
    "#barcode[#starting index:# stopping index: stepping index]"
   ]
  },
  {
   "cell_type": "code",
   "execution_count": 98,
   "id": "ac24856f",
   "metadata": {},
   "outputs": [
    {
     "data": {
      "text/plain": [
       "12"
      ]
     },
     "execution_count": 98,
     "metadata": {},
     "output_type": "execute_result"
    }
   ],
   "source": [
    "len(barcode)"
   ]
  },
  {
   "cell_type": "code",
   "execution_count": 99,
   "id": "5ddaeb70",
   "metadata": {},
   "outputs": [
    {
     "data": {
      "text/plain": [
       "'ABCDE1231454'"
      ]
     },
     "execution_count": 99,
     "metadata": {},
     "output_type": "execute_result"
    }
   ],
   "source": [
    "barcode[0:12:1]"
   ]
  },
  {
   "cell_type": "code",
   "execution_count": 100,
   "id": "ddbd878b",
   "metadata": {},
   "outputs": [
    {
     "data": {
      "text/plain": [
       "'ABCDE123145'"
      ]
     },
     "execution_count": 100,
     "metadata": {},
     "output_type": "execute_result"
    }
   ],
   "source": [
    "barcode[0:11:1]"
   ]
  },
  {
   "cell_type": "code",
   "execution_count": 101,
   "id": "6fdbed6e",
   "metadata": {},
   "outputs": [
    {
     "data": {
      "text/plain": [
       "'4'"
      ]
     },
     "execution_count": 101,
     "metadata": {},
     "output_type": "execute_result"
    }
   ],
   "source": [
    "barcode[-1]"
   ]
  },
  {
   "cell_type": "code",
   "execution_count": 102,
   "id": "a601240a",
   "metadata": {},
   "outputs": [
    {
     "data": {
      "text/plain": [
       "'DE1231454'"
      ]
     },
     "execution_count": 102,
     "metadata": {},
     "output_type": "execute_result"
    }
   ],
   "source": [
    "barcode[3:12:1]"
   ]
  },
  {
   "cell_type": "code",
   "execution_count": 103,
   "id": "9f3ba3fe",
   "metadata": {},
   "outputs": [
    {
     "data": {
      "text/plain": [
       "'ABC'"
      ]
     },
     "execution_count": 103,
     "metadata": {},
     "output_type": "execute_result"
    }
   ],
   "source": [
    "barcode[:3:]"
   ]
  },
  {
   "cell_type": "code",
   "execution_count": 104,
   "id": "5e6fc48b",
   "metadata": {},
   "outputs": [
    {
     "data": {
      "text/plain": [
       "'ACE215'"
      ]
     },
     "execution_count": 104,
     "metadata": {},
     "output_type": "execute_result"
    }
   ],
   "source": [
    "barcode[::2]"
   ]
  },
  {
   "cell_type": "code",
   "execution_count": 105,
   "id": "f52aaddd",
   "metadata": {},
   "outputs": [
    {
     "data": {
      "text/plain": [
       "'231454'"
      ]
     },
     "execution_count": 105,
     "metadata": {},
     "output_type": "execute_result"
    }
   ],
   "source": [
    "barcode[6::]"
   ]
  },
  {
   "cell_type": "code",
   "execution_count": 106,
   "id": "1b8aba8f",
   "metadata": {},
   "outputs": [
    {
     "data": {
      "text/plain": [
       "'DE'"
      ]
     },
     "execution_count": 106,
     "metadata": {},
     "output_type": "execute_result"
    }
   ],
   "source": [
    "barcode[3:5]"
   ]
  },
  {
   "cell_type": "code",
   "execution_count": 107,
   "id": "c611933b",
   "metadata": {},
   "outputs": [
    {
     "data": {
      "text/plain": [
       "'BD13'"
      ]
     },
     "execution_count": 107,
     "metadata": {},
     "output_type": "execute_result"
    }
   ],
   "source": [
    "barcode[1:9:2]"
   ]
  },
  {
   "cell_type": "code",
   "execution_count": 108,
   "id": "04443e3e",
   "metadata": {},
   "outputs": [
    {
     "data": {
      "text/plain": [
       "'4541321EDCBA'"
      ]
     },
     "execution_count": 108,
     "metadata": {},
     "output_type": "execute_result"
    }
   ],
   "source": [
    "barcode[::-1]"
   ]
  },
  {
   "cell_type": "code",
   "execution_count": 109,
   "id": "f5af36d3",
   "metadata": {},
   "outputs": [],
   "source": [
    "name = \"Muhammed Akpiyal\""
   ]
  },
  {
   "cell_type": "code",
   "execution_count": 110,
   "id": "88881e5c",
   "metadata": {},
   "outputs": [
    {
     "data": {
      "text/plain": [
       "'muhammed akpiyal'"
      ]
     },
     "execution_count": 110,
     "metadata": {},
     "output_type": "execute_result"
    }
   ],
   "source": [
    "name.casefold()"
   ]
  },
  {
   "cell_type": "code",
   "execution_count": 111,
   "id": "1dc54b0d",
   "metadata": {},
   "outputs": [
    {
     "data": {
      "text/plain": [
       "'Muhammed Akpiyal'"
      ]
     },
     "execution_count": 111,
     "metadata": {},
     "output_type": "execute_result"
    }
   ],
   "source": [
    "name"
   ]
  },
  {
   "cell_type": "code",
   "execution_count": 112,
   "id": "6329102f",
   "metadata": {},
   "outputs": [],
   "source": [
    "name =\"MUHAMMED AKPİYAL\""
   ]
  },
  {
   "cell_type": "code",
   "execution_count": 113,
   "id": "8a34f403",
   "metadata": {},
   "outputs": [
    {
     "data": {
      "text/plain": [
       "'muhammed akpi̇yal'"
      ]
     },
     "execution_count": 113,
     "metadata": {},
     "output_type": "execute_result"
    }
   ],
   "source": [
    "name.casefold()"
   ]
  },
  {
   "cell_type": "code",
   "execution_count": 114,
   "id": "67d51664",
   "metadata": {},
   "outputs": [
    {
     "data": {
      "text/plain": [
       "['MUHAMMED', 'AKPİYAL']"
      ]
     },
     "execution_count": 114,
     "metadata": {},
     "output_type": "execute_result"
    }
   ],
   "source": [
    "name.split()"
   ]
  },
  {
   "cell_type": "code",
   "execution_count": 118,
   "id": "abfa0c78",
   "metadata": {},
   "outputs": [
    {
     "data": {
      "text/plain": [
       "list"
      ]
     },
     "execution_count": 118,
     "metadata": {},
     "output_type": "execute_result"
    }
   ],
   "source": [
    "type(name.split())"
   ]
  },
  {
   "cell_type": "code",
   "execution_count": 120,
   "id": "83a2ad3d",
   "metadata": {},
   "outputs": [],
   "source": [
    "no_name = name.split()"
   ]
  },
  {
   "cell_type": "code",
   "execution_count": 121,
   "id": "5df0bf05",
   "metadata": {},
   "outputs": [
    {
     "data": {
      "text/plain": [
       "['MUHAMMED', 'AKPİYAL']"
      ]
     },
     "execution_count": 121,
     "metadata": {},
     "output_type": "execute_result"
    }
   ],
   "source": [
    "no_name"
   ]
  },
  {
   "cell_type": "code",
   "execution_count": 122,
   "id": "62b2a39a",
   "metadata": {},
   "outputs": [
    {
     "data": {
      "text/plain": [
       "list"
      ]
     },
     "execution_count": 122,
     "metadata": {},
     "output_type": "execute_result"
    }
   ],
   "source": [
    "type(no_name)"
   ]
  },
  {
   "cell_type": "code",
   "execution_count": null,
   "id": "9ee61975",
   "metadata": {},
   "outputs": [],
   "source": []
  }
 ],
 "metadata": {
  "kernelspec": {
   "display_name": "Python 3 (ipykernel)",
   "language": "python",
   "name": "python3"
  },
  "language_info": {
   "codemirror_mode": {
    "name": "ipython",
    "version": 3
   },
   "file_extension": ".py",
   "mimetype": "text/x-python",
   "name": "python",
   "nbconvert_exporter": "python",
   "pygments_lexer": "ipython3",
   "version": "3.11.5"
  }
 },
 "nbformat": 4,
 "nbformat_minor": 5
}
