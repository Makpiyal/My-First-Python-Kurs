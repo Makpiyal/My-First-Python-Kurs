{
 "cells": [
  {
   "cell_type": "markdown",
   "id": "5f4222fa",
   "metadata": {},
   "source": [
    "# scope\n"
   ]
  },
  {
   "cell_type": "code",
   "execution_count": 1,
   "id": "139d993b",
   "metadata": {},
   "outputs": [],
   "source": [
    "x = 20\n",
    "def multiply(num):\n",
    "    x = 5\n",
    "    return num * x"
   ]
  },
  {
   "cell_type": "code",
   "execution_count": 2,
   "id": "ad776535",
   "metadata": {},
   "outputs": [
    {
     "data": {
      "text/plain": [
       "50"
      ]
     },
     "execution_count": 2,
     "metadata": {},
     "output_type": "execute_result"
    }
   ],
   "source": [
    "multply(10)"
   ]
  },
  {
   "cell_type": "code",
   "execution_count": 3,
   "id": "1f53b9be",
   "metadata": {},
   "outputs": [
    {
     "name": "stdout",
     "output_type": "stream",
     "text": [
      "20\n"
     ]
    }
   ],
   "source": [
    "print(x)"
   ]
  },
  {
   "cell_type": "code",
   "execution_count": 9,
   "id": "8e47ddff",
   "metadata": {},
   "outputs": [],
   "source": [
    "x = 20\n",
    "def multiply(num):\n",
    "    x = 5\n",
    "    return num * x\n",
    "x = 10"
   ]
  },
  {
   "cell_type": "code",
   "execution_count": 10,
   "id": "dd82d9de",
   "metadata": {},
   "outputs": [
    {
     "data": {
      "text/plain": [
       "10"
      ]
     },
     "execution_count": 10,
     "metadata": {},
     "output_type": "execute_result"
    }
   ],
   "source": [
    "x"
   ]
  },
  {
   "cell_type": "code",
   "execution_count": 11,
   "id": "fa31a902",
   "metadata": {},
   "outputs": [
    {
     "data": {
      "text/plain": [
       "15"
      ]
     },
     "execution_count": 11,
     "metadata": {},
     "output_type": "execute_result"
    }
   ],
   "source": [
    "multiply(3)"
   ]
  },
  {
   "cell_type": "markdown",
   "id": "d28eac24",
   "metadata": {},
   "source": [
    "# LEGB Local Enclosing Global Built-in"
   ]
  },
  {
   "cell_type": "code",
   "execution_count": 22,
   "id": "1d3422ac",
   "metadata": {},
   "outputs": [],
   "source": [
    "#Global\n",
    "myString = \"Atıl\"\n",
    "\n",
    "def myFunction():\n",
    "    #Enclosing\n",
    "    #myString = \"Atıl 2\"\n",
    "    \n",
    "    def myFunction2():\n",
    "        #Local\n",
    "        #myString = \"Atıl 3\"\n",
    "        print(myString)\n",
    "    myFunction2()"
   ]
  },
  {
   "cell_type": "code",
   "execution_count": 23,
   "id": "d073a9ba",
   "metadata": {},
   "outputs": [
    {
     "data": {
      "text/plain": [
       "'Atıl'"
      ]
     },
     "execution_count": 23,
     "metadata": {},
     "output_type": "execute_result"
    }
   ],
   "source": [
    "myString"
   ]
  },
  {
   "cell_type": "code",
   "execution_count": 24,
   "id": "c081d761",
   "metadata": {},
   "outputs": [
    {
     "name": "stdout",
     "output_type": "stream",
     "text": [
      "Atıl\n"
     ]
    }
   ],
   "source": [
    "myFunction()"
   ]
  },
  {
   "cell_type": "code",
   "execution_count": 25,
   "id": "f5c0f770",
   "metadata": {},
   "outputs": [],
   "source": [
    "y = 10\n",
    "\n",
    "def newFunction(y):\n",
    "    print(y)\n",
    "    y = 5\n",
    "    print(y)\n",
    "    return y"
   ]
  },
  {
   "cell_type": "code",
   "execution_count": 26,
   "id": "cc03b68c",
   "metadata": {},
   "outputs": [
    {
     "name": "stdout",
     "output_type": "stream",
     "text": [
      "10\n",
      "5\n"
     ]
    },
    {
     "data": {
      "text/plain": [
       "5"
      ]
     },
     "execution_count": 26,
     "metadata": {},
     "output_type": "execute_result"
    }
   ],
   "source": [
    "newFunction(10)"
   ]
  },
  {
   "cell_type": "code",
   "execution_count": null,
   "id": "f0eaac94",
   "metadata": {},
   "outputs": [],
   "source": [
    "y = 10\n",
    "\n",
    "def changeY():\n",
    "    global y \n",
    "    y = 5\n",
    "    print(y)"
   ]
  }
 ],
 "metadata": {
  "kernelspec": {
   "display_name": "Python 3 (ipykernel)",
   "language": "python",
   "name": "python3"
  },
  "language_info": {
   "codemirror_mode": {
    "name": "ipython",
    "version": 3
   },
   "file_extension": ".py",
   "mimetype": "text/x-python",
   "name": "python",
   "nbconvert_exporter": "python",
   "pygments_lexer": "ipython3",
   "version": "3.11.5"
  }
 },
 "nbformat": 4,
 "nbformat_minor": 5
}
