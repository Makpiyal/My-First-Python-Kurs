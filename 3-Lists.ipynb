{
 "cells": [
  {
   "cell_type": "code",
   "execution_count": 1,
   "id": "a379e3a1",
   "metadata": {},
   "outputs": [],
   "source": [
    "myString = \"hello python\""
   ]
  },
  {
   "cell_type": "code",
   "execution_count": 2,
   "id": "69ac20e1",
   "metadata": {},
   "outputs": [
    {
     "data": {
      "text/plain": [
       "['hello', 'python']"
      ]
     },
     "execution_count": 2,
     "metadata": {},
     "output_type": "execute_result"
    }
   ],
   "source": [
    "myString.split()"
   ]
  },
  {
   "cell_type": "code",
   "execution_count": 3,
   "id": "ec118fbb",
   "metadata": {},
   "outputs": [
    {
     "data": {
      "text/plain": [
       "list"
      ]
     },
     "execution_count": 3,
     "metadata": {},
     "output_type": "execute_result"
    }
   ],
   "source": [
    "type(myString.split())"
   ]
  },
  {
   "cell_type": "code",
   "execution_count": 4,
   "id": "b5eb76af",
   "metadata": {},
   "outputs": [],
   "source": [
    "#list \"das ist eine Struktur, die viele daten enhtält.\" İçinde birden fazla veri tutan yapı"
   ]
  },
  {
   "cell_type": "code",
   "execution_count": 5,
   "id": "e91d6de9",
   "metadata": {},
   "outputs": [
    {
     "data": {
      "text/plain": [
       "'h'"
      ]
     },
     "execution_count": 5,
     "metadata": {},
     "output_type": "execute_result"
    }
   ],
   "source": [
    "myString[0]"
   ]
  },
  {
   "cell_type": "code",
   "execution_count": 6,
   "id": "fc255059",
   "metadata": {},
   "outputs": [],
   "source": [
    "#myString [0] = \"a\" (immutable-immutability) bu işlem yapılamaz( der Prozess kann nicht durchgeführt werden)"
   ]
  },
  {
   "cell_type": "markdown",
   "id": "2260ee61",
   "metadata": {},
   "source": [
    "# list"
   ]
  },
  {
   "cell_type": "code",
   "execution_count": 7,
   "id": "8ae44b88",
   "metadata": {},
   "outputs": [],
   "source": [
    "# Listede herşey tutabiliriz."
   ]
  },
  {
   "cell_type": "code",
   "execution_count": 8,
   "id": "66a75af4",
   "metadata": {},
   "outputs": [],
   "source": [
    "myList = [10,20,30]"
   ]
  },
  {
   "cell_type": "code",
   "execution_count": 9,
   "id": "75684e83",
   "metadata": {},
   "outputs": [],
   "source": [
    "myList[0] = \"a\""
   ]
  },
  {
   "cell_type": "code",
   "execution_count": 10,
   "id": "74ddfd4f",
   "metadata": {},
   "outputs": [
    {
     "data": {
      "text/plain": [
       "['a', 20, 30]"
      ]
     },
     "execution_count": 10,
     "metadata": {},
     "output_type": "execute_result"
    }
   ],
   "source": [
    "myList"
   ]
  },
  {
   "cell_type": "code",
   "execution_count": 11,
   "id": "60999eef",
   "metadata": {},
   "outputs": [],
   "source": [
    "myList[0] = 10"
   ]
  },
  {
   "cell_type": "code",
   "execution_count": 12,
   "id": "82e8bdbf",
   "metadata": {},
   "outputs": [
    {
     "data": {
      "text/plain": [
       "[10, 20, 30]"
      ]
     },
     "execution_count": 12,
     "metadata": {},
     "output_type": "execute_result"
    }
   ],
   "source": [
    "myList"
   ]
  },
  {
   "cell_type": "code",
   "execution_count": 13,
   "id": "36e723c3",
   "metadata": {},
   "outputs": [],
   "source": [
    "x = 10 \n",
    "y = 20 \n",
    "z = 30"
   ]
  },
  {
   "cell_type": "code",
   "execution_count": 14,
   "id": "0ca07188",
   "metadata": {},
   "outputs": [],
   "source": [
    "my_list = [x,y,z]"
   ]
  },
  {
   "cell_type": "code",
   "execution_count": 15,
   "id": "5fe8c56a",
   "metadata": {},
   "outputs": [
    {
     "data": {
      "text/plain": [
       "[10, 20, 30]"
      ]
     },
     "execution_count": 15,
     "metadata": {},
     "output_type": "execute_result"
    }
   ],
   "source": [
    "my_list"
   ]
  },
  {
   "cell_type": "code",
   "execution_count": 16,
   "id": "aa36e4f2",
   "metadata": {},
   "outputs": [],
   "source": [
    "my_list = [10,20,30,40,50,60,70,80]"
   ]
  },
  {
   "cell_type": "code",
   "execution_count": 17,
   "id": "15cc9b8c",
   "metadata": {},
   "outputs": [
    {
     "data": {
      "text/plain": [
       "list"
      ]
     },
     "execution_count": 17,
     "metadata": {},
     "output_type": "execute_result"
    }
   ],
   "source": [
    "type(my_list)"
   ]
  },
  {
   "cell_type": "code",
   "execution_count": 18,
   "id": "22432c45",
   "metadata": {},
   "outputs": [
    {
     "data": {
      "text/plain": [
       "int"
      ]
     },
     "execution_count": 18,
     "metadata": {},
     "output_type": "execute_result"
    }
   ],
   "source": [
    "type(my_list[0])"
   ]
  },
  {
   "cell_type": "code",
   "execution_count": 19,
   "id": "875e10e3",
   "metadata": {},
   "outputs": [],
   "source": [
    "#mutable, mutability (Veränderbarkeit) Değiştirilebilirlik"
   ]
  },
  {
   "cell_type": "code",
   "execution_count": 20,
   "id": "030645d6",
   "metadata": {},
   "outputs": [],
   "source": [
    "my_list[5] = 61"
   ]
  },
  {
   "cell_type": "code",
   "execution_count": 21,
   "id": "e232cce4",
   "metadata": {},
   "outputs": [
    {
     "data": {
      "text/plain": [
       "[10, 20, 30, 40, 50, 61, 70, 80]"
      ]
     },
     "execution_count": 21,
     "metadata": {},
     "output_type": "execute_result"
    }
   ],
   "source": [
    "my_list"
   ]
  },
  {
   "cell_type": "code",
   "execution_count": 22,
   "id": "264662b4",
   "metadata": {},
   "outputs": [],
   "source": [
    "my_list[5] = 60"
   ]
  },
  {
   "cell_type": "code",
   "execution_count": 23,
   "id": "d22571db",
   "metadata": {},
   "outputs": [
    {
     "data": {
      "text/plain": [
       "[10, 20, 30, 40, 50, 60, 70, 80]"
      ]
     },
     "execution_count": 23,
     "metadata": {},
     "output_type": "execute_result"
    }
   ],
   "source": [
    "my_list"
   ]
  },
  {
   "cell_type": "code",
   "execution_count": 24,
   "id": "d4af8c52",
   "metadata": {},
   "outputs": [
    {
     "data": {
      "text/plain": [
       "80"
      ]
     },
     "execution_count": 24,
     "metadata": {},
     "output_type": "execute_result"
    }
   ],
   "source": [
    "my_list[len(my_list)-1]"
   ]
  },
  {
   "cell_type": "code",
   "execution_count": 25,
   "id": "1bb6a045",
   "metadata": {},
   "outputs": [
    {
     "data": {
      "text/plain": [
       "60"
      ]
     },
     "execution_count": 25,
     "metadata": {},
     "output_type": "execute_result"
    }
   ],
   "source": [
    "my_list[len(my_list)-3]"
   ]
  },
  {
   "cell_type": "code",
   "execution_count": 26,
   "id": "4d8f6946",
   "metadata": {},
   "outputs": [
    {
     "data": {
      "text/plain": [
       "[10, 20, 30, 40, 50, 60, 70, 80]"
      ]
     },
     "execution_count": 26,
     "metadata": {},
     "output_type": "execute_result"
    }
   ],
   "source": [
    "my_list"
   ]
  },
  {
   "cell_type": "code",
   "execution_count": 27,
   "id": "675631ae",
   "metadata": {},
   "outputs": [],
   "source": [
    "#append Methode( Listenin içine bir şey eklemek istediğimizde kullanılır)"
   ]
  },
  {
   "cell_type": "code",
   "execution_count": 28,
   "id": "d5874447",
   "metadata": {},
   "outputs": [],
   "source": [
    "my_list.append(90)"
   ]
  },
  {
   "cell_type": "code",
   "execution_count": 29,
   "id": "afc3601d",
   "metadata": {},
   "outputs": [
    {
     "data": {
      "text/plain": [
       "[10, 20, 30, 40, 50, 60, 70, 80, 90]"
      ]
     },
     "execution_count": 29,
     "metadata": {},
     "output_type": "execute_result"
    }
   ],
   "source": [
    "my_list"
   ]
  },
  {
   "cell_type": "code",
   "execution_count": 30,
   "id": "dae1e65b",
   "metadata": {},
   "outputs": [
    {
     "data": {
      "text/plain": [
       "1"
      ]
     },
     "execution_count": 30,
     "metadata": {},
     "output_type": "execute_result"
    }
   ],
   "source": [
    "my_list.count(20)"
   ]
  },
  {
   "cell_type": "code",
   "execution_count": 31,
   "id": "5a252494",
   "metadata": {},
   "outputs": [],
   "source": [
    "my_list.append(20)"
   ]
  },
  {
   "cell_type": "code",
   "execution_count": 32,
   "id": "7b363cb4",
   "metadata": {},
   "outputs": [
    {
     "data": {
      "text/plain": [
       "[10, 20, 30, 40, 50, 60, 70, 80, 90, 20]"
      ]
     },
     "execution_count": 32,
     "metadata": {},
     "output_type": "execute_result"
    }
   ],
   "source": [
    "my_list"
   ]
  },
  {
   "cell_type": "code",
   "execution_count": 33,
   "id": "c151018b",
   "metadata": {},
   "outputs": [
    {
     "data": {
      "text/plain": [
       "2"
      ]
     },
     "execution_count": 33,
     "metadata": {},
     "output_type": "execute_result"
    }
   ],
   "source": [
    "my_list.count(20)"
   ]
  },
  {
   "cell_type": "code",
   "execution_count": 34,
   "id": "e3c7c279",
   "metadata": {},
   "outputs": [
    {
     "data": {
      "text/plain": [
       "1"
      ]
     },
     "execution_count": 34,
     "metadata": {},
     "output_type": "execute_result"
    }
   ],
   "source": [
    "my_list.index(20)"
   ]
  },
  {
   "cell_type": "code",
   "execution_count": 35,
   "id": "8dbb0a0a",
   "metadata": {},
   "outputs": [],
   "source": [
    "my_list.insert(2,35)"
   ]
  },
  {
   "cell_type": "code",
   "execution_count": 36,
   "id": "b4077449",
   "metadata": {},
   "outputs": [
    {
     "data": {
      "text/plain": [
       "[10, 20, 35, 30, 40, 50, 60, 70, 80, 90, 20]"
      ]
     },
     "execution_count": 36,
     "metadata": {},
     "output_type": "execute_result"
    }
   ],
   "source": [
    "my_list"
   ]
  },
  {
   "cell_type": "code",
   "execution_count": 37,
   "id": "aeda42fb",
   "metadata": {},
   "outputs": [],
   "source": [
    "my_list.insert(5,\"merhaba\")"
   ]
  },
  {
   "cell_type": "code",
   "execution_count": 38,
   "id": "230c361c",
   "metadata": {},
   "outputs": [
    {
     "data": {
      "text/plain": [
       "[10, 20, 35, 30, 40, 'merhaba', 50, 60, 70, 80, 90, 20]"
      ]
     },
     "execution_count": 38,
     "metadata": {},
     "output_type": "execute_result"
    }
   ],
   "source": [
    "my_list"
   ]
  },
  {
   "cell_type": "code",
   "execution_count": 39,
   "id": "41e005d5",
   "metadata": {},
   "outputs": [],
   "source": [
    "my_list.remove(\"merhaba\")"
   ]
  },
  {
   "cell_type": "code",
   "execution_count": 40,
   "id": "d1bad2d0",
   "metadata": {},
   "outputs": [
    {
     "data": {
      "text/plain": [
       "[10, 20, 35, 30, 40, 50, 60, 70, 80, 90, 20]"
      ]
     },
     "execution_count": 40,
     "metadata": {},
     "output_type": "execute_result"
    }
   ],
   "source": [
    "my_list"
   ]
  },
  {
   "cell_type": "code",
   "execution_count": 41,
   "id": "81a191b0",
   "metadata": {},
   "outputs": [],
   "source": [
    "my_list.remove(20)"
   ]
  },
  {
   "cell_type": "code",
   "execution_count": 42,
   "id": "071f0b80",
   "metadata": {},
   "outputs": [
    {
     "data": {
      "text/plain": [
       "[10, 35, 30, 40, 50, 60, 70, 80, 90, 20]"
      ]
     },
     "execution_count": 42,
     "metadata": {},
     "output_type": "execute_result"
    }
   ],
   "source": [
    "my_list"
   ]
  },
  {
   "cell_type": "code",
   "execution_count": 43,
   "id": "94b0206d",
   "metadata": {},
   "outputs": [
    {
     "data": {
      "text/plain": [
       "<function list.sort(*, key=None, reverse=False)>"
      ]
     },
     "execution_count": 43,
     "metadata": {},
     "output_type": "execute_result"
    }
   ],
   "source": [
    "my_list.sort"
   ]
  },
  {
   "cell_type": "code",
   "execution_count": 44,
   "id": "d5872d13",
   "metadata": {},
   "outputs": [],
   "source": [
    "my_list.sort()"
   ]
  },
  {
   "cell_type": "code",
   "execution_count": 45,
   "id": "99b20510",
   "metadata": {},
   "outputs": [
    {
     "data": {
      "text/plain": [
       "[10, 20, 30, 35, 40, 50, 60, 70, 80, 90]"
      ]
     },
     "execution_count": 45,
     "metadata": {},
     "output_type": "execute_result"
    }
   ],
   "source": [
    "my_list"
   ]
  },
  {
   "cell_type": "code",
   "execution_count": 46,
   "id": "6011a9b6",
   "metadata": {},
   "outputs": [],
   "source": [
    "my_list.remove(35)"
   ]
  },
  {
   "cell_type": "code",
   "execution_count": 47,
   "id": "9f0d3790",
   "metadata": {},
   "outputs": [
    {
     "data": {
      "text/plain": [
       "[10, 20, 30, 40, 50, 60, 70, 80, 90]"
      ]
     },
     "execution_count": 47,
     "metadata": {},
     "output_type": "execute_result"
    }
   ],
   "source": [
    "my_list"
   ]
  },
  {
   "cell_type": "code",
   "execution_count": 48,
   "id": "7490cbac",
   "metadata": {},
   "outputs": [
    {
     "name": "stdout",
     "output_type": "stream",
     "text": [
      "enter x10\n"
     ]
    }
   ],
   "source": [
    "x = input(\"enter x\")"
   ]
  },
  {
   "cell_type": "code",
   "execution_count": 49,
   "id": "c14aedd1",
   "metadata": {},
   "outputs": [
    {
     "data": {
      "text/plain": [
       "'10'"
      ]
     },
     "execution_count": 49,
     "metadata": {},
     "output_type": "execute_result"
    }
   ],
   "source": [
    "x"
   ]
  },
  {
   "cell_type": "code",
   "execution_count": 50,
   "id": "0e9a612b",
   "metadata": {},
   "outputs": [
    {
     "data": {
      "text/plain": [
       "str"
      ]
     },
     "execution_count": 50,
     "metadata": {},
     "output_type": "execute_result"
    }
   ],
   "source": [
    "type(x)"
   ]
  },
  {
   "cell_type": "code",
   "execution_count": 51,
   "id": "fbac973b",
   "metadata": {},
   "outputs": [
    {
     "name": "stdout",
     "output_type": "stream",
     "text": [
      "enter y20\n"
     ]
    }
   ],
   "source": [
    "y = input(\"enter y\")"
   ]
  },
  {
   "cell_type": "code",
   "execution_count": 52,
   "id": "c8e5c34d",
   "metadata": {},
   "outputs": [
    {
     "name": "stdout",
     "output_type": "stream",
     "text": [
      "enter z30\n"
     ]
    }
   ],
   "source": [
    "z = input(\"enter z\")"
   ]
  },
  {
   "cell_type": "code",
   "execution_count": 53,
   "id": "aa14d7a0",
   "metadata": {},
   "outputs": [],
   "source": [
    "input_list = []"
   ]
  },
  {
   "cell_type": "code",
   "execution_count": 54,
   "id": "d6134a41",
   "metadata": {},
   "outputs": [],
   "source": [
    "input_list.append(x)\n",
    "input_list.append(y)\n",
    "input_list.append(z)"
   ]
  },
  {
   "cell_type": "code",
   "execution_count": 55,
   "id": "76ff582b",
   "metadata": {},
   "outputs": [
    {
     "data": {
      "text/plain": [
       "['10', '20', '30']"
      ]
     },
     "execution_count": 55,
     "metadata": {},
     "output_type": "execute_result"
    }
   ],
   "source": [
    "input_list"
   ]
  },
  {
   "cell_type": "code",
   "execution_count": 56,
   "id": "bbfd19cb",
   "metadata": {},
   "outputs": [],
   "source": [
    "my_integer = 50"
   ]
  },
  {
   "cell_type": "code",
   "execution_count": 57,
   "id": "5e45bc1e",
   "metadata": {},
   "outputs": [
    {
     "data": {
      "text/plain": [
       "'50'"
      ]
     },
     "execution_count": 57,
     "metadata": {},
     "output_type": "execute_result"
    }
   ],
   "source": [
    "str(my_integer)"
   ]
  },
  {
   "cell_type": "code",
   "execution_count": 58,
   "id": "68196275",
   "metadata": {},
   "outputs": [
    {
     "data": {
      "text/plain": [
       "int"
      ]
     },
     "execution_count": 58,
     "metadata": {},
     "output_type": "execute_result"
    }
   ],
   "source": [
    "type(my_integer)"
   ]
  },
  {
   "cell_type": "code",
   "execution_count": 59,
   "id": "2d78f174",
   "metadata": {},
   "outputs": [
    {
     "data": {
      "text/plain": [
       "'50'"
      ]
     },
     "execution_count": 59,
     "metadata": {},
     "output_type": "execute_result"
    }
   ],
   "source": [
    "str(my_integer)"
   ]
  },
  {
   "cell_type": "code",
   "execution_count": 60,
   "id": "99646dbe",
   "metadata": {},
   "outputs": [],
   "source": [
    "my_string = str(my_integer)"
   ]
  },
  {
   "cell_type": "code",
   "execution_count": 61,
   "id": "445f4298",
   "metadata": {},
   "outputs": [
    {
     "data": {
      "text/plain": [
       "str"
      ]
     },
     "execution_count": 61,
     "metadata": {},
     "output_type": "execute_result"
    }
   ],
   "source": [
    "type(my_string)"
   ]
  },
  {
   "cell_type": "code",
   "execution_count": 62,
   "id": "a78609c2",
   "metadata": {},
   "outputs": [],
   "source": [
    "my_string = 40"
   ]
  },
  {
   "cell_type": "code",
   "execution_count": 63,
   "id": "9a09dbbc",
   "metadata": {},
   "outputs": [
    {
     "data": {
      "text/plain": [
       "int"
      ]
     },
     "execution_count": 63,
     "metadata": {},
     "output_type": "execute_result"
    }
   ],
   "source": [
    "type(my_string)"
   ]
  },
  {
   "cell_type": "code",
   "execution_count": 64,
   "id": "fad29cdc",
   "metadata": {},
   "outputs": [],
   "source": [
    "my_string = \"40\""
   ]
  },
  {
   "cell_type": "code",
   "execution_count": 65,
   "id": "07158bb9",
   "metadata": {},
   "outputs": [
    {
     "data": {
      "text/plain": [
       "str"
      ]
     },
     "execution_count": 65,
     "metadata": {},
     "output_type": "execute_result"
    }
   ],
   "source": [
    "type(my_string)"
   ]
  },
  {
   "cell_type": "code",
   "execution_count": 66,
   "id": "842ad41e",
   "metadata": {},
   "outputs": [
    {
     "data": {
      "text/plain": [
       "40"
      ]
     },
     "execution_count": 66,
     "metadata": {},
     "output_type": "execute_result"
    }
   ],
   "source": [
    "int(my_string)"
   ]
  },
  {
   "cell_type": "code",
   "execution_count": 67,
   "id": "16164717",
   "metadata": {},
   "outputs": [
    {
     "data": {
      "text/plain": [
       "'40'"
      ]
     },
     "execution_count": 67,
     "metadata": {},
     "output_type": "execute_result"
    }
   ],
   "source": [
    "my_string"
   ]
  },
  {
   "cell_type": "code",
   "execution_count": 68,
   "id": "528e10f3",
   "metadata": {},
   "outputs": [
    {
     "data": {
      "text/plain": [
       "str"
      ]
     },
     "execution_count": 68,
     "metadata": {},
     "output_type": "execute_result"
    }
   ],
   "source": [
    "type(my_string)"
   ]
  },
  {
   "cell_type": "code",
   "execution_count": 69,
   "id": "92f7d5ad",
   "metadata": {},
   "outputs": [],
   "source": [
    "new_integer = int(my_string)"
   ]
  },
  {
   "cell_type": "code",
   "execution_count": 70,
   "id": "0267b49b",
   "metadata": {},
   "outputs": [
    {
     "data": {
      "text/plain": [
       "40"
      ]
     },
     "execution_count": 70,
     "metadata": {},
     "output_type": "execute_result"
    }
   ],
   "source": [
    "new_integer"
   ]
  },
  {
   "cell_type": "code",
   "execution_count": 71,
   "id": "57777ffa",
   "metadata": {},
   "outputs": [
    {
     "data": {
      "text/plain": [
       "40.0"
      ]
     },
     "execution_count": 71,
     "metadata": {},
     "output_type": "execute_result"
    }
   ],
   "source": [
    "float(new_integer)"
   ]
  },
  {
   "cell_type": "code",
   "execution_count": 72,
   "id": "5680efbe",
   "metadata": {},
   "outputs": [
    {
     "data": {
      "text/plain": [
       "['10', '20', '30']"
      ]
     },
     "execution_count": 72,
     "metadata": {},
     "output_type": "execute_result"
    }
   ],
   "source": [
    "input_list"
   ]
  },
  {
   "cell_type": "code",
   "execution_count": 73,
   "id": "d2183062",
   "metadata": {},
   "outputs": [],
   "source": [
    "input_list.append(40)"
   ]
  },
  {
   "cell_type": "code",
   "execution_count": 74,
   "id": "22bfedc9",
   "metadata": {},
   "outputs": [
    {
     "data": {
      "text/plain": [
       "['10', '20', '30', 40]"
      ]
     },
     "execution_count": 74,
     "metadata": {},
     "output_type": "execute_result"
    }
   ],
   "source": [
    "input_list"
   ]
  },
  {
   "cell_type": "code",
   "execution_count": 75,
   "id": "7f3ba269",
   "metadata": {},
   "outputs": [],
   "source": [
    "input_list.insert(4,50)"
   ]
  },
  {
   "cell_type": "code",
   "execution_count": 76,
   "id": "6c6fd7b4",
   "metadata": {},
   "outputs": [
    {
     "data": {
      "text/plain": [
       "['10', '20', '30', 40, 50]"
      ]
     },
     "execution_count": 76,
     "metadata": {},
     "output_type": "execute_result"
    }
   ],
   "source": [
    "input_list"
   ]
  },
  {
   "cell_type": "code",
   "execution_count": 77,
   "id": "6f660e40",
   "metadata": {},
   "outputs": [
    {
     "data": {
      "text/plain": [
       "50"
      ]
     },
     "execution_count": 77,
     "metadata": {},
     "output_type": "execute_result"
    }
   ],
   "source": [
    "input_list.pop()"
   ]
  },
  {
   "cell_type": "code",
   "execution_count": 78,
   "id": "c3005708",
   "metadata": {},
   "outputs": [
    {
     "data": {
      "text/plain": [
       "['10', '20', '30', 40]"
      ]
     },
     "execution_count": 78,
     "metadata": {},
     "output_type": "execute_result"
    }
   ],
   "source": [
    "input_list"
   ]
  },
  {
   "cell_type": "code",
   "execution_count": 79,
   "id": "7ef53cb2",
   "metadata": {},
   "outputs": [],
   "source": [
    "my_new_list = []"
   ]
  },
  {
   "cell_type": "code",
   "execution_count": 80,
   "id": "751aa5f5",
   "metadata": {},
   "outputs": [],
   "source": [
    "m = \"Merhaba\"\n",
    "n = \"Muhammed\"\n",
    "o = \"Nasılsın\""
   ]
  },
  {
   "cell_type": "code",
   "execution_count": 81,
   "id": "29706763",
   "metadata": {},
   "outputs": [],
   "source": [
    "my_new_list.append(m)\n",
    "my_new_list.append(n)\n",
    "my_new_list.append(o)"
   ]
  },
  {
   "cell_type": "code",
   "execution_count": 82,
   "id": "2dd61b01",
   "metadata": {},
   "outputs": [
    {
     "data": {
      "text/plain": [
       "['Merhaba', 'Muhammed', 'Nasılsın']"
      ]
     },
     "execution_count": 82,
     "metadata": {},
     "output_type": "execute_result"
    }
   ],
   "source": [
    "my_new_list"
   ]
  },
  {
   "cell_type": "code",
   "execution_count": 83,
   "id": "381b8dbe",
   "metadata": {},
   "outputs": [],
   "source": [
    "my_new_list.insert(3, 40)"
   ]
  },
  {
   "cell_type": "code",
   "execution_count": 84,
   "id": "6a8219b5",
   "metadata": {},
   "outputs": [
    {
     "data": {
      "text/plain": [
       "['Merhaba', 'Muhammed', 'Nasılsın', 40]"
      ]
     },
     "execution_count": 84,
     "metadata": {},
     "output_type": "execute_result"
    }
   ],
   "source": [
    "my_new_list"
   ]
  },
  {
   "cell_type": "code",
   "execution_count": 85,
   "id": "b5acdeac",
   "metadata": {},
   "outputs": [
    {
     "data": {
      "text/plain": [
       "80"
      ]
     },
     "execution_count": 85,
     "metadata": {},
     "output_type": "execute_result"
    }
   ],
   "source": [
    "int(my_new_list[3]) * 2"
   ]
  },
  {
   "cell_type": "code",
   "execution_count": 86,
   "id": "63d8811c",
   "metadata": {},
   "outputs": [
    {
     "data": {
      "text/plain": [
       "20.0"
      ]
     },
     "execution_count": 86,
     "metadata": {},
     "output_type": "execute_result"
    }
   ],
   "source": [
    "int(my_new_list[3]) / 2"
   ]
  },
  {
   "cell_type": "code",
   "execution_count": 87,
   "id": "b53db1aa",
   "metadata": {},
   "outputs": [
    {
     "data": {
      "text/plain": [
       "\"['Merhaba', 'Muhammed', 'Nasılsın', 40]\""
      ]
     },
     "execution_count": 87,
     "metadata": {},
     "output_type": "execute_result"
    }
   ],
   "source": [
    "str(my_new_list)"
   ]
  },
  {
   "cell_type": "code",
   "execution_count": 88,
   "id": "c4eccd69",
   "metadata": {},
   "outputs": [
    {
     "data": {
      "text/plain": [
       "4"
      ]
     },
     "execution_count": 88,
     "metadata": {},
     "output_type": "execute_result"
    }
   ],
   "source": [
    "len(my_new_list)"
   ]
  },
  {
   "cell_type": "code",
   "execution_count": 91,
   "id": "f5276d77",
   "metadata": {},
   "outputs": [
    {
     "data": {
      "text/plain": [
       "1"
      ]
     },
     "execution_count": 91,
     "metadata": {},
     "output_type": "execute_result"
    }
   ],
   "source": [
    "my_new_list.count(\"Muhammed\")"
   ]
  },
  {
   "cell_type": "code",
   "execution_count": 94,
   "id": "f0693d38",
   "metadata": {},
   "outputs": [
    {
     "data": {
      "text/plain": [
       "3"
      ]
     },
     "execution_count": 94,
     "metadata": {},
     "output_type": "execute_result"
    }
   ],
   "source": [
    "my_new_list.index(40)"
   ]
  },
  {
   "cell_type": "code",
   "execution_count": 95,
   "id": "b5104ff1",
   "metadata": {},
   "outputs": [],
   "source": [
    "my_new_list.insert(4,50)"
   ]
  },
  {
   "cell_type": "code",
   "execution_count": 96,
   "id": "e541d193",
   "metadata": {},
   "outputs": [
    {
     "data": {
      "text/plain": [
       "['Merhaba', 'Muhammed', 'Nasılsın', 40, 50]"
      ]
     },
     "execution_count": 96,
     "metadata": {},
     "output_type": "execute_result"
    }
   ],
   "source": [
    "my_new_list"
   ]
  },
  {
   "cell_type": "code",
   "execution_count": 99,
   "id": "39d1bbdc",
   "metadata": {},
   "outputs": [],
   "source": [
    "my_new_list.reverse()"
   ]
  },
  {
   "cell_type": "code",
   "execution_count": 100,
   "id": "721b273b",
   "metadata": {},
   "outputs": [
    {
     "data": {
      "text/plain": [
       "[50, 40, 'Nasılsın', 'Muhammed', 'Merhaba']"
      ]
     },
     "execution_count": 100,
     "metadata": {},
     "output_type": "execute_result"
    }
   ],
   "source": [
    "my_new_list"
   ]
  },
  {
   "cell_type": "code",
   "execution_count": 101,
   "id": "353e9dda",
   "metadata": {},
   "outputs": [],
   "source": [
    "my_new_list.reverse()"
   ]
  },
  {
   "cell_type": "code",
   "execution_count": 103,
   "id": "dbee2ca5",
   "metadata": {},
   "outputs": [],
   "source": [
    "my_list.sort()"
   ]
  },
  {
   "cell_type": "code",
   "execution_count": 104,
   "id": "addd664d",
   "metadata": {},
   "outputs": [
    {
     "data": {
      "text/plain": [
       "[10, 20, 30, 40, 50, 60, 70, 80, 90]"
      ]
     },
     "execution_count": 104,
     "metadata": {},
     "output_type": "execute_result"
    }
   ],
   "source": [
    "my_list"
   ]
  },
  {
   "cell_type": "code",
   "execution_count": 105,
   "id": "6c023fdb",
   "metadata": {},
   "outputs": [
    {
     "name": "stdout",
     "output_type": "stream",
     "text": [
      "Bitte geben eine Zahl ein29\n"
     ]
    }
   ],
   "source": [
    "x = input(\"Bitte geben eine Zahl ein\")"
   ]
  },
  {
   "cell_type": "code",
   "execution_count": 106,
   "id": "50bdd90d",
   "metadata": {},
   "outputs": [
    {
     "data": {
      "text/plain": [
       "'29'"
      ]
     },
     "execution_count": 106,
     "metadata": {},
     "output_type": "execute_result"
    }
   ],
   "source": [
    "x"
   ]
  },
  {
   "cell_type": "code",
   "execution_count": 107,
   "id": "21e6b5eb",
   "metadata": {},
   "outputs": [
    {
     "data": {
      "text/plain": [
       "str"
      ]
     },
     "execution_count": 107,
     "metadata": {},
     "output_type": "execute_result"
    }
   ],
   "source": [
    "type(x)"
   ]
  },
  {
   "cell_type": "code",
   "execution_count": 115,
   "id": "6085a8a5",
   "metadata": {},
   "outputs": [
    {
     "name": "stdout",
     "output_type": "stream",
     "text": [
      "enter y20\n"
     ]
    }
   ],
   "source": [
    "y =input(\"enter y\")"
   ]
  },
  {
   "cell_type": "code",
   "execution_count": 116,
   "id": "963e2c2e",
   "metadata": {},
   "outputs": [
    {
     "data": {
      "text/plain": [
       "20"
      ]
     },
     "execution_count": 116,
     "metadata": {},
     "output_type": "execute_result"
    }
   ],
   "source": [
    "20"
   ]
  },
  {
   "cell_type": "code",
   "execution_count": 121,
   "id": "9b116d57",
   "metadata": {},
   "outputs": [
    {
     "name": "stdout",
     "output_type": "stream",
     "text": [
      "enter z30\n"
     ]
    }
   ],
   "source": [
    "z = input(\"enter z\")"
   ]
  },
  {
   "cell_type": "code",
   "execution_count": 122,
   "id": "2420115f",
   "metadata": {},
   "outputs": [],
   "source": [
    "input_list = []"
   ]
  },
  {
   "cell_type": "code",
   "execution_count": 123,
   "id": "0248f872",
   "metadata": {},
   "outputs": [],
   "source": [
    "input_list.append(x)\n",
    "input_list.append(y)\n",
    "input_list.append(z)"
   ]
  },
  {
   "cell_type": "code",
   "execution_count": 124,
   "id": "492d0ef7",
   "metadata": {},
   "outputs": [
    {
     "data": {
      "text/plain": [
       "['29', '20', '30']"
      ]
     },
     "execution_count": 124,
     "metadata": {},
     "output_type": "execute_result"
    }
   ],
   "source": [
    "input_list"
   ]
  },
  {
   "cell_type": "code",
   "execution_count": 125,
   "id": "724fa698",
   "metadata": {},
   "outputs": [],
   "source": [
    "input_list.sort()"
   ]
  },
  {
   "cell_type": "code",
   "execution_count": 126,
   "id": "ddeb0472",
   "metadata": {},
   "outputs": [
    {
     "data": {
      "text/plain": [
       "['20', '29', '30']"
      ]
     },
     "execution_count": 126,
     "metadata": {},
     "output_type": "execute_result"
    }
   ],
   "source": [
    "input_list"
   ]
  },
  {
   "cell_type": "code",
   "execution_count": 127,
   "id": "caafa4d4",
   "metadata": {},
   "outputs": [
    {
     "data": {
      "text/plain": [
       "'29'"
      ]
     },
     "execution_count": 127,
     "metadata": {},
     "output_type": "execute_result"
    }
   ],
   "source": [
    "input_list[1]"
   ]
  },
  {
   "cell_type": "code",
   "execution_count": 128,
   "id": "5b19a03c",
   "metadata": {},
   "outputs": [
    {
     "data": {
      "text/plain": [
       "'2929'"
      ]
     },
     "execution_count": 128,
     "metadata": {},
     "output_type": "execute_result"
    }
   ],
   "source": [
    "input_list[1] * 2"
   ]
  },
  {
   "cell_type": "code",
   "execution_count": 129,
   "id": "39729cf9",
   "metadata": {},
   "outputs": [
    {
     "data": {
      "text/plain": [
       "list"
      ]
     },
     "execution_count": 129,
     "metadata": {},
     "output_type": "execute_result"
    }
   ],
   "source": [
    "type(input_list)"
   ]
  },
  {
   "cell_type": "code",
   "execution_count": 131,
   "id": "a96e5c39",
   "metadata": {},
   "outputs": [
    {
     "data": {
      "text/plain": [
       "\"['20', '29', '30']\""
      ]
     },
     "execution_count": 131,
     "metadata": {},
     "output_type": "execute_result"
    }
   ],
   "source": [
    "str(input_list)"
   ]
  },
  {
   "cell_type": "code",
   "execution_count": 134,
   "id": "43da716e",
   "metadata": {},
   "outputs": [
    {
     "data": {
      "text/plain": [
       "[10, 20, 30, 40, 50, 60, 70, 80, 90]"
      ]
     },
     "execution_count": 134,
     "metadata": {},
     "output_type": "execute_result"
    }
   ],
   "source": [
    "my_list"
   ]
  },
  {
   "cell_type": "code",
   "execution_count": 136,
   "id": "e40afa94",
   "metadata": {},
   "outputs": [
    {
     "data": {
      "text/plain": [
       "40"
      ]
     },
     "execution_count": 136,
     "metadata": {},
     "output_type": "execute_result"
    }
   ],
   "source": [
    "int(my_list[1]) * 2"
   ]
  },
  {
   "cell_type": "code",
   "execution_count": 137,
   "id": "0792f6b4",
   "metadata": {},
   "outputs": [
    {
     "data": {
      "text/plain": [
       "50"
      ]
     },
     "execution_count": 137,
     "metadata": {},
     "output_type": "execute_result"
    }
   ],
   "source": [
    "int(my_list[0]) * 5"
   ]
  },
  {
   "cell_type": "code",
   "execution_count": 138,
   "id": "64aefe5f",
   "metadata": {},
   "outputs": [
    {
     "data": {
      "text/plain": [
       "list"
      ]
     },
     "execution_count": 138,
     "metadata": {},
     "output_type": "execute_result"
    }
   ],
   "source": [
    "type(my_list)"
   ]
  },
  {
   "cell_type": "code",
   "execution_count": 139,
   "id": "87ae6daa",
   "metadata": {},
   "outputs": [
    {
     "data": {
      "text/plain": [
       "['Merhaba', 'Muhammed', 'Nasılsın', 40, 50]"
      ]
     },
     "execution_count": 139,
     "metadata": {},
     "output_type": "execute_result"
    }
   ],
   "source": [
    "my_new_list"
   ]
  },
  {
   "cell_type": "code",
   "execution_count": 140,
   "id": "5e13cf45",
   "metadata": {},
   "outputs": [],
   "source": [
    "my_str_list = str(my_list)"
   ]
  },
  {
   "cell_type": "code",
   "execution_count": 141,
   "id": "fa504f9b",
   "metadata": {},
   "outputs": [
    {
     "data": {
      "text/plain": [
       "'[10, 20, 30, 40, 50, 60, 70, 80, 90]'"
      ]
     },
     "execution_count": 141,
     "metadata": {},
     "output_type": "execute_result"
    }
   ],
   "source": [
    "my_str_list"
   ]
  },
  {
   "cell_type": "code",
   "execution_count": 148,
   "id": "dbcce63d",
   "metadata": {},
   "outputs": [
    {
     "data": {
      "text/plain": [
       "str"
      ]
     },
     "execution_count": 148,
     "metadata": {},
     "output_type": "execute_result"
    }
   ],
   "source": [
    "type(my_str_list)"
   ]
  },
  {
   "cell_type": "code",
   "execution_count": 149,
   "id": "d6e660ae",
   "metadata": {},
   "outputs": [
    {
     "data": {
      "text/plain": [
       "list"
      ]
     },
     "execution_count": 149,
     "metadata": {},
     "output_type": "execute_result"
    }
   ],
   "source": [
    "type(my_list)"
   ]
  },
  {
   "cell_type": "code",
   "execution_count": 150,
   "id": "b65e9033",
   "metadata": {},
   "outputs": [
    {
     "data": {
      "text/plain": [
       "[10, 20, 30, 40, 50, 60, 70, 80, 90]"
      ]
     },
     "execution_count": 150,
     "metadata": {},
     "output_type": "execute_result"
    }
   ],
   "source": [
    "my_list"
   ]
  },
  {
   "cell_type": "code",
   "execution_count": 151,
   "id": "5b12b8b3",
   "metadata": {},
   "outputs": [],
   "source": [
    "name_list = [\"Yannick\", \"David\", \"Christopf\", \"Melissa\"]"
   ]
  },
  {
   "cell_type": "code",
   "execution_count": 152,
   "id": "39e0ddc0",
   "metadata": {},
   "outputs": [
    {
     "data": {
      "text/plain": [
       "list"
      ]
     },
     "execution_count": 152,
     "metadata": {},
     "output_type": "execute_result"
    }
   ],
   "source": [
    "type(name_list)"
   ]
  },
  {
   "cell_type": "code",
   "execution_count": 153,
   "id": "a91817d2",
   "metadata": {},
   "outputs": [],
   "source": [
    "float_list = [3.14, 2.5, 10.2, 100.123]"
   ]
  },
  {
   "cell_type": "code",
   "execution_count": 154,
   "id": "33b11a2c",
   "metadata": {},
   "outputs": [
    {
     "data": {
      "text/plain": [
       "list"
      ]
     },
     "execution_count": 154,
     "metadata": {},
     "output_type": "execute_result"
    }
   ],
   "source": [
    "type(float_list)"
   ]
  },
  {
   "cell_type": "code",
   "execution_count": 155,
   "id": "22f2cf41",
   "metadata": {},
   "outputs": [],
   "source": [
    "mixed_list = [3.14, \"Muhammed,\", 100, 500, \"Tareq\", 121.32]"
   ]
  },
  {
   "cell_type": "code",
   "execution_count": 156,
   "id": "c620261c",
   "metadata": {},
   "outputs": [
    {
     "data": {
      "text/plain": [
       "list"
      ]
     },
     "execution_count": 156,
     "metadata": {},
     "output_type": "execute_result"
    }
   ],
   "source": [
    "type(mixed_list)"
   ]
  },
  {
   "cell_type": "code",
   "execution_count": 159,
   "id": "8d4ed7b9",
   "metadata": {},
   "outputs": [],
   "source": [
    "list1 = [10,20,30]\n",
    "list2 = [40,50,60]"
   ]
  },
  {
   "cell_type": "code",
   "execution_count": 160,
   "id": "cf4c24d5",
   "metadata": {},
   "outputs": [
    {
     "data": {
      "text/plain": [
       "[10, 20, 30, 40, 50, 60]"
      ]
     },
     "execution_count": 160,
     "metadata": {},
     "output_type": "execute_result"
    }
   ],
   "source": [
    "list1 + list2"
   ]
  },
  {
   "cell_type": "code",
   "execution_count": 161,
   "id": "2347223c",
   "metadata": {},
   "outputs": [
    {
     "data": {
      "text/plain": [
       "[10, 20, 30, 10, 20, 30]"
      ]
     },
     "execution_count": 161,
     "metadata": {},
     "output_type": "execute_result"
    }
   ],
   "source": [
    "list1 * 2"
   ]
  },
  {
   "cell_type": "code",
   "execution_count": 162,
   "id": "455689c2",
   "metadata": {},
   "outputs": [
    {
     "data": {
      "text/plain": [
       "str"
      ]
     },
     "execution_count": 162,
     "metadata": {},
     "output_type": "execute_result"
    }
   ],
   "source": [
    "type(mixed_list[1])"
   ]
  },
  {
   "cell_type": "code",
   "execution_count": 163,
   "id": "a882b67d",
   "metadata": {},
   "outputs": [
    {
     "data": {
      "text/plain": [
       "float"
      ]
     },
     "execution_count": 163,
     "metadata": {},
     "output_type": "execute_result"
    }
   ],
   "source": [
    "type(mixed_list[0])"
   ]
  },
  {
   "cell_type": "code",
   "execution_count": 164,
   "id": "10b089c5",
   "metadata": {},
   "outputs": [
    {
     "data": {
      "text/plain": [
       "int"
      ]
     },
     "execution_count": 164,
     "metadata": {},
     "output_type": "execute_result"
    }
   ],
   "source": [
    "type(mixed_list[2])"
   ]
  },
  {
   "cell_type": "code",
   "execution_count": 165,
   "id": "94a1e125",
   "metadata": {},
   "outputs": [],
   "source": [
    "#nestedList"
   ]
  },
  {
   "cell_type": "code",
   "execution_count": 166,
   "id": "7921a393",
   "metadata": {},
   "outputs": [],
   "source": [
    "my_nested_list = [10,20,30,3.14, \"Muhammed\",[1,2,3]]"
   ]
  },
  {
   "cell_type": "code",
   "execution_count": 167,
   "id": "ee2ac1cd",
   "metadata": {},
   "outputs": [
    {
     "data": {
      "text/plain": [
       "10"
      ]
     },
     "execution_count": 167,
     "metadata": {},
     "output_type": "execute_result"
    }
   ],
   "source": [
    "my_nested_list[0]"
   ]
  },
  {
   "cell_type": "code",
   "execution_count": 168,
   "id": "ffe15f0e",
   "metadata": {},
   "outputs": [
    {
     "data": {
      "text/plain": [
       "[1, 2, 3]"
      ]
     },
     "execution_count": 168,
     "metadata": {},
     "output_type": "execute_result"
    }
   ],
   "source": [
    "my_nested_list[5]"
   ]
  },
  {
   "cell_type": "code",
   "execution_count": 169,
   "id": "3952cc33",
   "metadata": {},
   "outputs": [
    {
     "data": {
      "text/plain": [
       "'29'"
      ]
     },
     "execution_count": 169,
     "metadata": {},
     "output_type": "execute_result"
    }
   ],
   "source": [
    "x"
   ]
  },
  {
   "cell_type": "code",
   "execution_count": 170,
   "id": "cdadf8e8",
   "metadata": {},
   "outputs": [],
   "source": [
    "x = my_nested_list[1]"
   ]
  },
  {
   "cell_type": "code",
   "execution_count": 171,
   "id": "7dded8f8",
   "metadata": {},
   "outputs": [
    {
     "data": {
      "text/plain": [
       "20"
      ]
     },
     "execution_count": 171,
     "metadata": {},
     "output_type": "execute_result"
    }
   ],
   "source": [
    "x"
   ]
  },
  {
   "cell_type": "code",
   "execution_count": 177,
   "id": "fd65374c",
   "metadata": {},
   "outputs": [],
   "source": [
    "small_list = my_nested_list[5]"
   ]
  },
  {
   "cell_type": "code",
   "execution_count": 178,
   "id": "16eee6dd",
   "metadata": {},
   "outputs": [
    {
     "data": {
      "text/plain": [
       "[1, 2, 3]"
      ]
     },
     "execution_count": 178,
     "metadata": {},
     "output_type": "execute_result"
    }
   ],
   "source": [
    "small_list"
   ]
  },
  {
   "cell_type": "code",
   "execution_count": 179,
   "id": "1d2f1a5f",
   "metadata": {},
   "outputs": [
    {
     "data": {
      "text/plain": [
       "list"
      ]
     },
     "execution_count": 179,
     "metadata": {},
     "output_type": "execute_result"
    }
   ],
   "source": [
    "type(small_list)"
   ]
  },
  {
   "cell_type": "code",
   "execution_count": 180,
   "id": "6db5086d",
   "metadata": {},
   "outputs": [
    {
     "data": {
      "text/plain": [
       "float"
      ]
     },
     "execution_count": 180,
     "metadata": {},
     "output_type": "execute_result"
    }
   ],
   "source": [
    "type(my_nested_list[3])"
   ]
  },
  {
   "cell_type": "code",
   "execution_count": 181,
   "id": "c45e5747",
   "metadata": {},
   "outputs": [],
   "source": [
    "myNestedList = [10,20,3.14, \"Muhammed\", [1,2,3]]"
   ]
  },
  {
   "cell_type": "code",
   "execution_count": 187,
   "id": "9a3062c3",
   "metadata": {},
   "outputs": [],
   "source": [
    "small_list = myNestedList[-1]"
   ]
  },
  {
   "cell_type": "code",
   "execution_count": 188,
   "id": "abb6ed37",
   "metadata": {},
   "outputs": [
    {
     "data": {
      "text/plain": [
       "2"
      ]
     },
     "execution_count": 188,
     "metadata": {},
     "output_type": "execute_result"
    }
   ],
   "source": [
    "small_list[1]"
   ]
  },
  {
   "cell_type": "code",
   "execution_count": 190,
   "id": "b7be8a32",
   "metadata": {},
   "outputs": [
    {
     "data": {
      "text/plain": [
       "2"
      ]
     },
     "execution_count": 190,
     "metadata": {},
     "output_type": "execute_result"
    }
   ],
   "source": [
    "myNestedList[4][1]"
   ]
  },
  {
   "cell_type": "code",
   "execution_count": 192,
   "id": "dc913006",
   "metadata": {
    "scrolled": true
   },
   "outputs": [],
   "source": [
    "last_list = [\"a\",\"b\",[\"c\",\"d\",\"e\"],\"f\"]"
   ]
  },
  {
   "cell_type": "code",
   "execution_count": 193,
   "id": "93823158",
   "metadata": {},
   "outputs": [
    {
     "data": {
      "text/plain": [
       "4"
      ]
     },
     "execution_count": 193,
     "metadata": {},
     "output_type": "execute_result"
    }
   ],
   "source": [
    "len(last_list)"
   ]
  },
  {
   "cell_type": "code",
   "execution_count": 194,
   "id": "a8585831",
   "metadata": {},
   "outputs": [
    {
     "data": {
      "text/plain": [
       "[10, 20, 30]"
      ]
     },
     "execution_count": 194,
     "metadata": {},
     "output_type": "execute_result"
    }
   ],
   "source": [
    "list1"
   ]
  },
  {
   "cell_type": "code",
   "execution_count": 195,
   "id": "9ea6db4c",
   "metadata": {},
   "outputs": [
    {
     "data": {
      "text/plain": [
       "[40, 50, 60]"
      ]
     },
     "execution_count": 195,
     "metadata": {},
     "output_type": "execute_result"
    }
   ],
   "source": [
    "list2"
   ]
  },
  {
   "cell_type": "code",
   "execution_count": 196,
   "id": "042da328",
   "metadata": {},
   "outputs": [],
   "source": [
    "list3 = list1 + list2"
   ]
  },
  {
   "cell_type": "code",
   "execution_count": 197,
   "id": "0644d2c1",
   "metadata": {},
   "outputs": [
    {
     "data": {
      "text/plain": [
       "[10, 20, 30, 40, 50, 60]"
      ]
     },
     "execution_count": 197,
     "metadata": {},
     "output_type": "execute_result"
    }
   ],
   "source": [
    "list3"
   ]
  },
  {
   "cell_type": "code",
   "execution_count": 198,
   "id": "476c4224",
   "metadata": {},
   "outputs": [],
   "source": [
    "list1.append(list2)"
   ]
  },
  {
   "cell_type": "code",
   "execution_count": 199,
   "id": "6b3e6342",
   "metadata": {},
   "outputs": [
    {
     "data": {
      "text/plain": [
       "[10, 20, 30, [40, 50, 60]]"
      ]
     },
     "execution_count": 199,
     "metadata": {},
     "output_type": "execute_result"
    }
   ],
   "source": [
    "list1"
   ]
  },
  {
   "cell_type": "code",
   "execution_count": 200,
   "id": "76cdc008",
   "metadata": {},
   "outputs": [],
   "source": [
    "list1 = [10,20,30]"
   ]
  },
  {
   "cell_type": "code",
   "execution_count": 201,
   "id": "4bd90014",
   "metadata": {},
   "outputs": [
    {
     "data": {
      "text/plain": [
       "[10, 20, 30]"
      ]
     },
     "execution_count": 201,
     "metadata": {},
     "output_type": "execute_result"
    }
   ],
   "source": [
    "list1"
   ]
  },
  {
   "cell_type": "code",
   "execution_count": 204,
   "id": "3867ad8a",
   "metadata": {},
   "outputs": [
    {
     "data": {
      "text/plain": [
       "['a', 'b', ['c', 'd', 'e'], 'f']"
      ]
     },
     "execution_count": 204,
     "metadata": {},
     "output_type": "execute_result"
    }
   ],
   "source": [
    "last_list"
   ]
  },
  {
   "cell_type": "code",
   "execution_count": 205,
   "id": "d6ee11e5",
   "metadata": {},
   "outputs": [
    {
     "data": {
      "text/plain": [
       "'e'"
      ]
     },
     "execution_count": 205,
     "metadata": {},
     "output_type": "execute_result"
    }
   ],
   "source": [
    "last_list[2][2]"
   ]
  },
  {
   "cell_type": "code",
   "execution_count": 206,
   "id": "773e125d",
   "metadata": {},
   "outputs": [],
   "source": [
    "first_list = [10,20,30,40,50,60,70]"
   ]
  },
  {
   "cell_type": "code",
   "execution_count": 207,
   "id": "540fcb45",
   "metadata": {},
   "outputs": [
    {
     "data": {
      "text/plain": [
       "[30, 40, 50, 60, 70]"
      ]
     },
     "execution_count": 207,
     "metadata": {},
     "output_type": "execute_result"
    }
   ],
   "source": [
    "first_list [2::]"
   ]
  },
  {
   "cell_type": "code",
   "execution_count": 208,
   "id": "1e5c9478",
   "metadata": {},
   "outputs": [
    {
     "data": {
      "text/plain": [
       "[10, 20, 30, 40, 50]"
      ]
     },
     "execution_count": 208,
     "metadata": {},
     "output_type": "execute_result"
    }
   ],
   "source": [
    "first_list[:5:]"
   ]
  },
  {
   "cell_type": "code",
   "execution_count": 210,
   "id": "d9756100",
   "metadata": {},
   "outputs": [
    {
     "data": {
      "text/plain": [
       "[10, 30, 50, 70]"
      ]
     },
     "execution_count": 210,
     "metadata": {},
     "output_type": "execute_result"
    }
   ],
   "source": [
    "first_list[0:7:2]"
   ]
  },
  {
   "cell_type": "code",
   "execution_count": 211,
   "id": "d16a4019",
   "metadata": {},
   "outputs": [],
   "source": [
    "first_list.insert(0,5)"
   ]
  },
  {
   "cell_type": "code",
   "execution_count": 212,
   "id": "6c1e7baa",
   "metadata": {},
   "outputs": [
    {
     "data": {
      "text/plain": [
       "[5, 10, 20, 30, 40, 50, 60, 70]"
      ]
     },
     "execution_count": 212,
     "metadata": {},
     "output_type": "execute_result"
    }
   ],
   "source": [
    "first_list"
   ]
  },
  {
   "cell_type": "code",
   "execution_count": 213,
   "id": "09ab799c",
   "metadata": {},
   "outputs": [],
   "source": [
    "first_list.remove(5)"
   ]
  },
  {
   "cell_type": "code",
   "execution_count": 214,
   "id": "d59bd7c1",
   "metadata": {},
   "outputs": [
    {
     "data": {
      "text/plain": [
       "[10, 20, 30, 40, 50, 60, 70]"
      ]
     },
     "execution_count": 214,
     "metadata": {},
     "output_type": "execute_result"
    }
   ],
   "source": [
    "first_list"
   ]
  },
  {
   "cell_type": "code",
   "execution_count": null,
   "id": "52d84dcb",
   "metadata": {},
   "outputs": [],
   "source": []
  }
 ],
 "metadata": {
  "kernelspec": {
   "display_name": "Python 3 (ipykernel)",
   "language": "python",
   "name": "python3"
  },
  "language_info": {
   "codemirror_mode": {
    "name": "ipython",
    "version": 3
   },
   "file_extension": ".py",
   "mimetype": "text/x-python",
   "name": "python",
   "nbconvert_exporter": "python",
   "pygments_lexer": "ipython3",
   "version": "3.11.5"
  }
 },
 "nbformat": 4,
 "nbformat_minor": 5
}
