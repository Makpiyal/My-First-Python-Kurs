{
 "cells": [
  {
   "cell_type": "code",
   "execution_count": 1,
   "id": "0dd107c6",
   "metadata": {},
   "outputs": [],
   "source": [
    "# for loop, while loop"
   ]
  },
  {
   "cell_type": "code",
   "execution_count": 2,
   "id": "63d83129",
   "metadata": {},
   "outputs": [],
   "source": [
    "# for loop"
   ]
  },
  {
   "cell_type": "code",
   "execution_count": 3,
   "id": "fecc7f2d",
   "metadata": {},
   "outputs": [],
   "source": [
    "my_list = [10,20,30,40,50,60,70]"
   ]
  },
  {
   "cell_type": "code",
   "execution_count": 4,
   "id": "fc0509ee",
   "metadata": {},
   "outputs": [
    {
     "data": {
      "text/plain": [
       "20"
      ]
     },
     "execution_count": 4,
     "metadata": {},
     "output_type": "execute_result"
    }
   ],
   "source": [
    "my_list[0] * 2"
   ]
  },
  {
   "cell_type": "code",
   "execution_count": 5,
   "id": "70f59c6e",
   "metadata": {},
   "outputs": [
    {
     "data": {
      "text/plain": [
       "4.0"
      ]
     },
     "execution_count": 5,
     "metadata": {},
     "output_type": "execute_result"
    }
   ],
   "source": [
    "my_list[0]/5*2"
   ]
  },
  {
   "cell_type": "code",
   "execution_count": 6,
   "id": "3b77a449",
   "metadata": {},
   "outputs": [
    {
     "name": "stdout",
     "output_type": "stream",
     "text": [
      "10\n",
      "20\n",
      "30\n",
      "40\n",
      "50\n",
      "60\n",
      "70\n"
     ]
    }
   ],
   "source": [
    "for number in my_list:\n",
    "    print(number)"
   ]
  },
  {
   "cell_type": "code",
   "execution_count": 7,
   "id": "66349490",
   "metadata": {},
   "outputs": [
    {
     "name": "stdout",
     "output_type": "stream",
     "text": [
      "2.0\n",
      "4.0\n",
      "6.0\n",
      "8.0\n",
      "10.0\n",
      "12.0\n",
      "14.0\n"
     ]
    }
   ],
   "source": [
    "for number in my_list:\n",
    "    print(number/5)"
   ]
  },
  {
   "cell_type": "code",
   "execution_count": 8,
   "id": "47f96cbc",
   "metadata": {},
   "outputs": [
    {
     "name": "stdout",
     "output_type": "stream",
     "text": [
      "30\n",
      "60\n"
     ]
    }
   ],
   "source": [
    "for number in my_list:\n",
    "    if number %6==0:\n",
    "        print(number)"
   ]
  },
  {
   "cell_type": "code",
   "execution_count": 9,
   "id": "4fc53995",
   "metadata": {},
   "outputs": [
    {
     "ename": "NameError",
     "evalue": "name 'ne' is not defined",
     "output_type": "error",
     "traceback": [
      "\u001b[1;31m---------------------------------------------------------------------------\u001b[0m",
      "\u001b[1;31mNameError\u001b[0m                                 Traceback (most recent call last)",
      "Cell \u001b[1;32mIn[9], line 3\u001b[0m\n\u001b[0;32m      1\u001b[0m \u001b[38;5;28;01mfor\u001b[39;00m x \u001b[38;5;129;01min\u001b[39;00m my_list:\n\u001b[0;32m      2\u001b[0m     \u001b[38;5;28;01mif\u001b[39;00m x \u001b[38;5;241m%\u001b[39m\u001b[38;5;241m6\u001b[39m\u001b[38;5;241m==\u001b[39m\u001b[38;5;241m0\u001b[39m:\n\u001b[1;32m----> 3\u001b[0m         ne\n",
      "\u001b[1;31mNameError\u001b[0m: name 'ne' is not defined"
     ]
    }
   ],
   "source": [
    "for x in my_list:\n",
    "    if x %6==0:\n",
    "        ne"
   ]
  },
  {
   "cell_type": "code",
   "execution_count": null,
   "id": "02413d08",
   "metadata": {},
   "outputs": [],
   "source": [
    "number_list = [1,2,3,4,5,6,7,8,9]"
   ]
  },
  {
   "cell_type": "code",
   "execution_count": null,
   "id": "9f42a0ca",
   "metadata": {},
   "outputs": [],
   "source": [
    "for x in number_list:\n",
    "    if x %2 == 0:\n",
    "        print(x)"
   ]
  },
  {
   "cell_type": "code",
   "execution_count": null,
   "id": "0e437886",
   "metadata": {},
   "outputs": [],
   "source": [
    "my_string = \"Muhammed Akpiyal\""
   ]
  },
  {
   "cell_type": "code",
   "execution_count": null,
   "id": "c83a9e0d",
   "metadata": {},
   "outputs": [],
   "source": [
    "for c in my_string:\n",
    "    print(c)"
   ]
  },
  {
   "cell_type": "code",
   "execution_count": null,
   "id": "3356585d",
   "metadata": {},
   "outputs": [],
   "source": [
    "my_tuple = (10,20,30,40,50,60,70)"
   ]
  },
  {
   "cell_type": "code",
   "execution_count": null,
   "id": "1d3d05e8",
   "metadata": {},
   "outputs": [],
   "source": [
    "for num in my_tuple:\n",
    "    print(num/5 * 2)"
   ]
  },
  {
   "cell_type": "code",
   "execution_count": null,
   "id": "bd2781f4",
   "metadata": {},
   "outputs": [],
   "source": [
    "my_new_list = [(\"a\",\"b\"),(\"c\",\"d\"),(\"e\",\"f\"),(\"g\",\"h\")]"
   ]
  },
  {
   "cell_type": "code",
   "execution_count": null,
   "id": "06bc2999",
   "metadata": {},
   "outputs": [],
   "source": [
    "len(my_new_list)"
   ]
  },
  {
   "cell_type": "code",
   "execution_count": null,
   "id": "07f0c5c8",
   "metadata": {},
   "outputs": [],
   "source": [
    "for element in my_new_list:\n",
    "    print(element)"
   ]
  },
  {
   "cell_type": "code",
   "execution_count": null,
   "id": "6fdaee5a",
   "metadata": {},
   "outputs": [],
   "source": [
    "#tuple unpacking"
   ]
  },
  {
   "cell_type": "code",
   "execution_count": null,
   "id": "ab2209c4",
   "metadata": {},
   "outputs": [],
   "source": [
    "my_new_list[0][1]"
   ]
  },
  {
   "cell_type": "code",
   "execution_count": null,
   "id": "2b98b728",
   "metadata": {},
   "outputs": [],
   "source": [
    "for (x,y) in my_new_list:\n",
    "    print(x)"
   ]
  },
  {
   "cell_type": "code",
   "execution_count": null,
   "id": "90a3f0d5",
   "metadata": {},
   "outputs": [],
   "source": [
    "my_tuple_list = (0,1,2),(3,4,5),(6,7,8),(9,10,11)"
   ]
  },
  {
   "cell_type": "code",
   "execution_count": null,
   "id": "e8a107ce",
   "metadata": {},
   "outputs": [],
   "source": [
    "for (x,y,z) in my_tuple_list:\n",
    "    print(x)"
   ]
  },
  {
   "cell_type": "code",
   "execution_count": null,
   "id": "ebc359e9",
   "metadata": {},
   "outputs": [],
   "source": [
    "my_set = {1,2,3,4,5}"
   ]
  },
  {
   "cell_type": "code",
   "execution_count": null,
   "id": "6fbd764a",
   "metadata": {},
   "outputs": [],
   "source": [
    "my_set"
   ]
  },
  {
   "cell_type": "code",
   "execution_count": null,
   "id": "039bd062",
   "metadata": {},
   "outputs": [],
   "source": [
    "len(my_set)"
   ]
  },
  {
   "cell_type": "code",
   "execution_count": null,
   "id": "f1e34078",
   "metadata": {},
   "outputs": [],
   "source": [
    "type(my_set)"
   ]
  },
  {
   "cell_type": "code",
   "execution_count": null,
   "id": "490273ec",
   "metadata": {},
   "outputs": [],
   "source": [
    "for x in my_set:\n",
    "    print(x)"
   ]
  },
  {
   "cell_type": "code",
   "execution_count": null,
   "id": "771029df",
   "metadata": {},
   "outputs": [],
   "source": [
    "my_dictionary = {\"k1\":100, \"k2\":200, \"k3\":300}"
   ]
  },
  {
   "cell_type": "code",
   "execution_count": null,
   "id": "cf8392b8",
   "metadata": {},
   "outputs": [],
   "source": [
    "for element in my_dictionary:\n",
    "    print(element)"
   ]
  },
  {
   "cell_type": "code",
   "execution_count": null,
   "id": "8ac275ae",
   "metadata": {},
   "outputs": [],
   "source": [
    "my_dictionary.values()"
   ]
  },
  {
   "cell_type": "code",
   "execution_count": null,
   "id": "c01f52c2",
   "metadata": {},
   "outputs": [],
   "source": [
    "my_dictionary.keys()"
   ]
  },
  {
   "cell_type": "code",
   "execution_count": null,
   "id": "319e19e0",
   "metadata": {},
   "outputs": [],
   "source": [
    "my_dictionary.items()"
   ]
  },
  {
   "cell_type": "code",
   "execution_count": null,
   "id": "95bea12b",
   "metadata": {},
   "outputs": [],
   "source": [
    "for (key,value) in my_dictionary.items():\n",
    "    print(value)"
   ]
  },
  {
   "cell_type": "code",
   "execution_count": null,
   "id": "82640460",
   "metadata": {},
   "outputs": [],
   "source": [
    "for(key,value) in my_dictionary.items():\n",
    "    print(key)"
   ]
  },
  {
   "cell_type": "code",
   "execution_count": null,
   "id": "2965f782",
   "metadata": {},
   "outputs": [],
   "source": [
    "for x in my_dictionary.values():\n",
    "    print(x)"
   ]
  },
  {
   "cell_type": "code",
   "execution_count": null,
   "id": "b3f008c0",
   "metadata": {},
   "outputs": [],
   "source": [
    "#continue-break-pass"
   ]
  },
  {
   "cell_type": "code",
   "execution_count": null,
   "id": "22d7dcbf",
   "metadata": {},
   "outputs": [],
   "source": [
    "print(\"for loop started\")\n",
    "for num in my_list:\n",
    "    print(num)\n",
    "print(\"for loop endet\")"
   ]
  },
  {
   "cell_type": "code",
   "execution_count": null,
   "id": "d0a14137",
   "metadata": {},
   "outputs": [],
   "source": [
    "40 in my_list"
   ]
  },
  {
   "cell_type": "code",
   "execution_count": null,
   "id": "2134d892",
   "metadata": {},
   "outputs": [],
   "source": [
    "for number in my_list:\n",
    "    if number == 40:\n",
    "        print(\"number in my_list\")"
   ]
  },
  {
   "cell_type": "code",
   "execution_count": null,
   "id": "aeef73c6",
   "metadata": {},
   "outputs": [],
   "source": [
    "for number in my_list:\n",
    "    print(number)\n",
    "    if number == 40:\n",
    "        print(\"number in my_list\")"
   ]
  },
  {
   "cell_type": "code",
   "execution_count": null,
   "id": "bf8b8a31",
   "metadata": {},
   "outputs": [],
   "source": [
    "for number in my_list:\n",
    "    if number == 40:\n",
    "        print(\"number in my_list\")\n",
    "        break"
   ]
  },
  {
   "cell_type": "code",
   "execution_count": null,
   "id": "5a95e346",
   "metadata": {},
   "outputs": [],
   "source": [
    "my_list"
   ]
  },
  {
   "cell_type": "code",
   "execution_count": null,
   "id": "8fd1a670",
   "metadata": {},
   "outputs": [],
   "source": [
    "my_list"
   ]
  },
  {
   "cell_type": "code",
   "execution_count": null,
   "id": "59ea5942",
   "metadata": {},
   "outputs": [],
   "source": [
    "for number in my_list:\n",
    "    print(number)\n",
    "    if number == 40:\n",
    "        break"
   ]
  },
  {
   "cell_type": "code",
   "execution_count": null,
   "id": "c06f3fb1",
   "metadata": {},
   "outputs": [],
   "source": [
    "for number in my_list:\n",
    "    if number == 40:\n",
    "        continue\n",
    "    print(number)"
   ]
  },
  {
   "cell_type": "code",
   "execution_count": null,
   "id": "0f5b5b21",
   "metadata": {},
   "outputs": [],
   "source": [
    "for num in my_list:\n",
    "    pass"
   ]
  },
  {
   "cell_type": "code",
   "execution_count": null,
   "id": "314f1a42",
   "metadata": {},
   "outputs": [],
   "source": [
    "# pass kod geliştirme aşamasında, çalışmasını istemediğimiz ancak birşey yazmamız gereken satırlar için kullanılır."
   ]
  },
  {
   "cell_type": "code",
   "execution_count": null,
   "id": "4766fbf3",
   "metadata": {},
   "outputs": [],
   "source": [
    "x = 0"
   ]
  },
  {
   "cell_type": "code",
   "execution_count": null,
   "id": "949cbe34",
   "metadata": {},
   "outputs": [],
   "source": [
    "print(\"While loop started\")\n",
    "while x < 10:\n",
    "    print(x)\n",
    "    x = x + 1\n",
    "print(\"while loop ended\")"
   ]
  },
  {
   "cell_type": "code",
   "execution_count": null,
   "id": "4e100454",
   "metadata": {},
   "outputs": [],
   "source": [
    "last_list = [10,20,30,40,50]"
   ]
  },
  {
   "cell_type": "code",
   "execution_count": null,
   "id": "a16331a2",
   "metadata": {},
   "outputs": [],
   "source": [
    "while 20 in last_list:\n",
    "    print(\"20 in lastlist\")\n",
    "    last_list.pop()"
   ]
  },
  {
   "cell_type": "code",
   "execution_count": null,
   "id": "3ebb1734",
   "metadata": {},
   "outputs": [],
   "source": [
    "last_list = [10,20,30,40,50]"
   ]
  },
  {
   "cell_type": "code",
   "execution_count": null,
   "id": "006241db",
   "metadata": {},
   "outputs": [],
   "source": [
    "while 20 in last_list:\n",
    "    print(\"20 in last list\")\n",
    "    last_list.remove(20)"
   ]
  },
  {
   "cell_type": "code",
   "execution_count": null,
   "id": "d32b47be",
   "metadata": {},
   "outputs": [],
   "source": [
    "last_list"
   ]
  },
  {
   "cell_type": "code",
   "execution_count": null,
   "id": "47bde1d7",
   "metadata": {},
   "outputs": [],
   "source": [
    "# while True\n",
    "#or while 1==1: devamlı olmasını istediğimiz şeyler bu kod blokları kullanılabilir"
   ]
  },
  {
   "cell_type": "code",
   "execution_count": null,
   "id": "998e1392",
   "metadata": {},
   "outputs": [],
   "source": [
    "my_list"
   ]
  },
  {
   "cell_type": "code",
   "execution_count": null,
   "id": "a7f075b2",
   "metadata": {},
   "outputs": [],
   "source": [
    "print(f\"my_new_list: {my_list[0]},{my_list[1]}\")"
   ]
  },
  {
   "cell_type": "code",
   "execution_count": null,
   "id": "89b4cb51",
   "metadata": {},
   "outputs": [],
   "source": [
    "x = input(\"Bitte geben Ihr Name ein\")\n",
    "print(f\"Welcome {x}\")"
   ]
  },
  {
   "cell_type": "code",
   "execution_count": null,
   "id": "4cb5d68f",
   "metadata": {},
   "outputs": [],
   "source": [
    "print(\"welcome\", x)"
   ]
  },
  {
   "cell_type": "code",
   "execution_count": null,
   "id": "e05436f3",
   "metadata": {},
   "outputs": [],
   "source": [
    "x = int(input(\"Bitte geben Ihr Alter ein\"))\n",
    "p = 0\n",
    "while p < 100:\n",
    "    print(f)"
   ]
  },
  {
   "cell_type": "code",
   "execution_count": null,
   "id": "83e12060",
   "metadata": {},
   "outputs": [],
   "source": []
  }
 ],
 "metadata": {
  "kernelspec": {
   "display_name": "Python 3 (ipykernel)",
   "language": "python",
   "name": "python3"
  },
  "language_info": {
   "codemirror_mode": {
    "name": "ipython",
    "version": 3
   },
   "file_extension": ".py",
   "mimetype": "text/x-python",
   "name": "python",
   "nbconvert_exporter": "python",
   "pygments_lexer": "ipython3",
   "version": "3.11.5"
  }
 },
 "nbformat": 4,
 "nbformat_minor": 5
}
