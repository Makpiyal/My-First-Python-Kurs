{
 "cells": [
  {
   "cell_type": "markdown",
   "id": "c5b46ba2",
   "metadata": {},
   "source": [
    "# inheritance"
   ]
  },
  {
   "cell_type": "code",
   "execution_count": 51,
   "id": "94c02b4d",
   "metadata": {},
   "outputs": [
    {
     "name": "stdout",
     "output_type": "stream",
     "text": [
      "Die name wurde hinzugefügt\n"
     ]
    }
   ],
   "source": [
    "class Musician():\n",
    "    def __init__(self,name):\n",
    "        self.name = name\n",
    "    print(\"Die name wurde hinzugefügt\")\n",
    "    \n",
    "    def test1(self):\n",
    "        print(\"tes1,test1,test1\")\n",
    "    \n",
    "    def test2(self):\n",
    "        print(\"test2\")\n",
    "    def test3(self):\n",
    "        print(\"test3\")\n",
    "    "
   ]
  },
  {
   "cell_type": "code",
   "execution_count": 52,
   "id": "c81380d0",
   "metadata": {},
   "outputs": [],
   "source": [
    "x = Musician(\"Muhammed\")"
   ]
  },
  {
   "cell_type": "code",
   "execution_count": 53,
   "id": "060fabc3",
   "metadata": {},
   "outputs": [
    {
     "name": "stdout",
     "output_type": "stream",
     "text": [
      "test2\n"
     ]
    }
   ],
   "source": [
    "x.test2()"
   ]
  },
  {
   "cell_type": "code",
   "execution_count": 54,
   "id": "e4ad82dd",
   "metadata": {},
   "outputs": [],
   "source": [
    "class TopMusician(Musician):\n",
    "    def __init__(self,name):\n",
    "        Musician.__init__(self,name)\n",
    "        print(\"musician plus\")"
   ]
  },
  {
   "cell_type": "code",
   "execution_count": 55,
   "id": "3c2b4f75",
   "metadata": {},
   "outputs": [
    {
     "name": "stdout",
     "output_type": "stream",
     "text": [
      "musician plus\n"
     ]
    }
   ],
   "source": [
    "Muhammed = TopMusician(\"Muhammed\")"
   ]
  },
  {
   "cell_type": "code",
   "execution_count": 56,
   "id": "9875aa49",
   "metadata": {},
   "outputs": [
    {
     "name": "stdout",
     "output_type": "stream",
     "text": [
      "test3\n"
     ]
    }
   ],
   "source": [
    "Muhammed.test3()"
   ]
  },
  {
   "cell_type": "code",
   "execution_count": 57,
   "id": "0051a539",
   "metadata": {},
   "outputs": [],
   "source": [
    "Muhammed.name = \"Eren\""
   ]
  },
  {
   "cell_type": "code",
   "execution_count": 58,
   "id": "4b94f01c",
   "metadata": {},
   "outputs": [
    {
     "data": {
      "text/plain": [
       "'Eren'"
      ]
     },
     "execution_count": 58,
     "metadata": {},
     "output_type": "execute_result"
    }
   ],
   "source": [
    "Muhammed.name"
   ]
  },
  {
   "cell_type": "code",
   "execution_count": 60,
   "id": "12b76d3d",
   "metadata": {},
   "outputs": [
    {
     "name": "stdout",
     "output_type": "stream",
     "text": [
      "tes1,test1,test1\n"
     ]
    }
   ],
   "source": [
    "Muhammed.test1()"
   ]
  },
  {
   "cell_type": "markdown",
   "id": "b0651baa",
   "metadata": {},
   "source": [
    "# polymorphism"
   ]
  },
  {
   "cell_type": "code",
   "execution_count": 75,
   "id": "1f4c46ab",
   "metadata": {},
   "outputs": [],
   "source": [
    "class Banana():\n",
    "    def __init__(self,name):\n",
    "        self.name = name\n",
    "    \n",
    "    def info(self):\n",
    "        return f\"100 calories {self.name}\"\n",
    "\n",
    "class Apple():\n",
    "    def __init__(self,name):\n",
    "        self.name = name\n",
    "    \n",
    "    def info(self):\n",
    "        return f\"150 calories {self.name}\""
   ]
  },
  {
   "cell_type": "code",
   "execution_count": 76,
   "id": "0a3cae1a",
   "metadata": {},
   "outputs": [],
   "source": [
    "banana = Banana(\"Muz\")"
   ]
  },
  {
   "cell_type": "code",
   "execution_count": 77,
   "id": "97b3686b",
   "metadata": {},
   "outputs": [],
   "source": [
    "apple = Apple(\"Appleee\")"
   ]
  },
  {
   "cell_type": "code",
   "execution_count": 79,
   "id": "c6a13cc2",
   "metadata": {},
   "outputs": [
    {
     "data": {
      "text/plain": [
       "'100 calories Muz'"
      ]
     },
     "execution_count": 79,
     "metadata": {},
     "output_type": "execute_result"
    }
   ],
   "source": [
    "banana.info()"
   ]
  },
  {
   "cell_type": "code",
   "execution_count": 83,
   "id": "254d8643",
   "metadata": {},
   "outputs": [
    {
     "data": {
      "text/plain": [
       "'150 calories Appleee'"
      ]
     },
     "execution_count": 83,
     "metadata": {},
     "output_type": "execute_result"
    }
   ],
   "source": [
    "apple.info()"
   ]
  },
  {
   "cell_type": "code",
   "execution_count": 86,
   "id": "1cfbcba0",
   "metadata": {},
   "outputs": [
    {
     "name": "stdout",
     "output_type": "stream",
     "text": [
      "100 calories Muz\n",
      "150 calories Appleee\n"
     ]
    }
   ],
   "source": [
    "fruitList = [banana,apple]\n",
    "for fruit in fruitList:\n",
    "    print(fruit.info())"
   ]
  },
  {
   "cell_type": "markdown",
   "id": "195ddd15",
   "metadata": {},
   "source": [
    "# encapsulation"
   ]
  },
  {
   "cell_type": "code",
   "execution_count": 118,
   "id": "d08e3fcd",
   "metadata": {},
   "outputs": [],
   "source": [
    "class Phone():\n",
    "    \n",
    "    def __init__(self,name,price= 400):\n",
    "        self.name = name\n",
    "        self.__price = price\n",
    "    def info(self):\n",
    "        print(f\"{self.name} price is:{self.__price}\")\n",
    "    def changePrice(self,price):\n",
    "        self.__price = price"
   ]
  },
  {
   "cell_type": "code",
   "execution_count": 119,
   "id": "b517c586",
   "metadata": {},
   "outputs": [],
   "source": [
    "iphone = Phone(\"iPhone 14\", 500)"
   ]
  },
  {
   "cell_type": "code",
   "execution_count": 120,
   "id": "4b80bd24",
   "metadata": {},
   "outputs": [
    {
     "name": "stdout",
     "output_type": "stream",
     "text": [
      "iPhone 14 price is:500\n"
     ]
    }
   ],
   "source": [
    "iphone.info()"
   ]
  },
  {
   "cell_type": "code",
   "execution_count": 121,
   "id": "effde853",
   "metadata": {},
   "outputs": [],
   "source": [
    "iphone.price = 400"
   ]
  },
  {
   "cell_type": "code",
   "execution_count": 122,
   "id": "c7e90cf2",
   "metadata": {},
   "outputs": [
    {
     "data": {
      "text/plain": [
       "400"
      ]
     },
     "execution_count": 122,
     "metadata": {},
     "output_type": "execute_result"
    }
   ],
   "source": [
    "iphone.price"
   ]
  },
  {
   "cell_type": "code",
   "execution_count": 123,
   "id": "c5d910ac",
   "metadata": {},
   "outputs": [
    {
     "name": "stdout",
     "output_type": "stream",
     "text": [
      "iPhone 14 price is:500\n"
     ]
    }
   ],
   "source": [
    "iphone.info()"
   ]
  },
  {
   "cell_type": "code",
   "execution_count": 124,
   "id": "ce4695bf",
   "metadata": {},
   "outputs": [],
   "source": [
    "iphone.changePrice(300)"
   ]
  },
  {
   "cell_type": "code",
   "execution_count": 125,
   "id": "d1c9de35",
   "metadata": {},
   "outputs": [
    {
     "name": "stdout",
     "output_type": "stream",
     "text": [
      "iPhone 14 price is:300\n"
     ]
    }
   ],
   "source": [
    "iphone.info()"
   ]
  },
  {
   "cell_type": "code",
   "execution_count": 127,
   "id": "b0677359",
   "metadata": {},
   "outputs": [],
   "source": [
    "iphone.changePrice(400)"
   ]
  },
  {
   "cell_type": "code",
   "execution_count": 128,
   "id": "cf55aefb",
   "metadata": {},
   "outputs": [
    {
     "name": "stdout",
     "output_type": "stream",
     "text": [
      "iPhone 14 price is:400\n"
     ]
    }
   ],
   "source": [
    "iphone.info()"
   ]
  },
  {
   "cell_type": "markdown",
   "id": "f70724e6",
   "metadata": {},
   "source": [
    "# abstraction"
   ]
  },
  {
   "cell_type": "code",
   "execution_count": 2,
   "id": "93cc8223",
   "metadata": {},
   "outputs": [],
   "source": [
    "from abc import ABC, abstractmethod"
   ]
  },
  {
   "cell_type": "code",
   "execution_count": 38,
   "id": "3f49db10",
   "metadata": {},
   "outputs": [],
   "source": [
    "class Car(ABC):\n",
    "    \n",
    "    @abstractmethod\n",
    "    def maxSpeed(self):\n",
    "        pass\n",
    "        "
   ]
  },
  {
   "cell_type": "code",
   "execution_count": 39,
   "id": "1c784ab5",
   "metadata": {},
   "outputs": [],
   "source": [
    "#myCar = Car()"
   ]
  },
  {
   "cell_type": "code",
   "execution_count": 40,
   "id": "389086db",
   "metadata": {},
   "outputs": [],
   "source": [
    "class Tesla(Car):\n",
    "    \n",
    "    def maxSpeed(self):\n",
    "        print(\"200km\")"
   ]
  },
  {
   "cell_type": "code",
   "execution_count": 41,
   "id": "ba3390a1",
   "metadata": {},
   "outputs": [],
   "source": [
    "tesla = Tesla()"
   ]
  },
  {
   "cell_type": "code",
   "execution_count": 42,
   "id": "b55dc9d3",
   "metadata": {},
   "outputs": [
    {
     "name": "stdout",
     "output_type": "stream",
     "text": [
      "200km\n"
     ]
    }
   ],
   "source": [
    "tesla.maxSpeed()"
   ]
  },
  {
   "cell_type": "code",
   "execution_count": 44,
   "id": "ab65a9fe",
   "metadata": {},
   "outputs": [],
   "source": [
    "class Mercedes():\n",
    "    def maxSpeed(self):\n",
    "        print(\"250km\")"
   ]
  },
  {
   "cell_type": "code",
   "execution_count": 45,
   "id": "8c5f366f",
   "metadata": {},
   "outputs": [],
   "source": [
    "a200 = Mercedes()"
   ]
  },
  {
   "cell_type": "code",
   "execution_count": 47,
   "id": "da0fe83d",
   "metadata": {},
   "outputs": [
    {
     "name": "stdout",
     "output_type": "stream",
     "text": [
      "250km\n"
     ]
    }
   ],
   "source": [
    "a200.maxSpeed()"
   ]
  },
  {
   "cell_type": "code",
   "execution_count": 85,
   "id": "b32defd2",
   "metadata": {},
   "outputs": [],
   "source": [
    "class Fruit():\n",
    "    def __init__(self,name,calories):\n",
    "        self.name = name\n",
    "        self.calories = calories\n",
    "        \n",
    "    def __str__(self):\n",
    "        return f\"{self.name}: {self.calories} calories\"\n",
    "    \n",
    "    def __len__(self):\n",
    "        return self.calories"
   ]
  },
  {
   "cell_type": "code",
   "execution_count": 86,
   "id": "ec343ca1",
   "metadata": {},
   "outputs": [],
   "source": [
    "myFruit = Fruit(\"Apple\", 200)"
   ]
  },
  {
   "cell_type": "code",
   "execution_count": 87,
   "id": "43acfb12",
   "metadata": {},
   "outputs": [
    {
     "data": {
      "text/plain": [
       "'Apple'"
      ]
     },
     "execution_count": 87,
     "metadata": {},
     "output_type": "execute_result"
    }
   ],
   "source": [
    "myFruit.name"
   ]
  },
  {
   "cell_type": "code",
   "execution_count": 88,
   "id": "1041a867",
   "metadata": {},
   "outputs": [
    {
     "data": {
      "text/plain": [
       "200"
      ]
     },
     "execution_count": 88,
     "metadata": {},
     "output_type": "execute_result"
    }
   ],
   "source": [
    "myFruit.calories"
   ]
  },
  {
   "cell_type": "code",
   "execution_count": 89,
   "id": "9f10a4b7",
   "metadata": {},
   "outputs": [
    {
     "name": "stdout",
     "output_type": "stream",
     "text": [
      "Apple: 200 calories\n"
     ]
    }
   ],
   "source": [
    "print(myFruit)"
   ]
  },
  {
   "cell_type": "code",
   "execution_count": 90,
   "id": "2d024038",
   "metadata": {},
   "outputs": [
    {
     "name": "stdout",
     "output_type": "stream",
     "text": [
      "Apple: 200 calories\n"
     ]
    }
   ],
   "source": [
    "print(f\"{myFruit}\")"
   ]
  },
  {
   "cell_type": "code",
   "execution_count": 93,
   "id": "93f75a76",
   "metadata": {},
   "outputs": [
    {
     "data": {
      "text/plain": [
       "19"
      ]
     },
     "execution_count": 93,
     "metadata": {},
     "output_type": "execute_result"
    }
   ],
   "source": [
    "len(f\"{myFruit}\")"
   ]
  },
  {
   "cell_type": "code",
   "execution_count": 14,
   "id": "df99c8ef",
   "metadata": {},
   "outputs": [],
   "source": [
    "class Train():\n",
    "    def __init__(self,name):\n",
    "        self.name = name\n",
    "        \n",
    "    def __getitem__(self,key):\n",
    "        if key == \"a\":\n",
    "            return self.name\n",
    "        else:\n",
    "            return \"Not found\""
   ]
  },
  {
   "cell_type": "code",
   "execution_count": 15,
   "id": "32f808da",
   "metadata": {},
   "outputs": [],
   "source": [
    "myTrain = Train(\"myTrain\")"
   ]
  },
  {
   "cell_type": "code",
   "execution_count": 16,
   "id": "df3e632f",
   "metadata": {},
   "outputs": [
    {
     "data": {
      "text/plain": [
       "'myTrain'"
      ]
     },
     "execution_count": 16,
     "metadata": {},
     "output_type": "execute_result"
    }
   ],
   "source": [
    "myTrain.name"
   ]
  },
  {
   "cell_type": "code",
   "execution_count": 17,
   "id": "b7303f5a",
   "metadata": {},
   "outputs": [
    {
     "data": {
      "text/plain": [
       "'myTrain'"
      ]
     },
     "execution_count": 17,
     "metadata": {},
     "output_type": "execute_result"
    }
   ],
   "source": [
    "myTrain[\"a\"]"
   ]
  },
  {
   "cell_type": "code",
   "execution_count": 18,
   "id": "b60a50b0",
   "metadata": {},
   "outputs": [
    {
     "data": {
      "text/plain": [
       "'Not found'"
      ]
     },
     "execution_count": 18,
     "metadata": {},
     "output_type": "execute_result"
    }
   ],
   "source": [
    "myTrain[\"c\"]"
   ]
  },
  {
   "cell_type": "code",
   "execution_count": null,
   "id": "310043ea",
   "metadata": {},
   "outputs": [],
   "source": []
  }
 ],
 "metadata": {
  "kernelspec": {
   "display_name": "Python 3 (ipykernel)",
   "language": "python",
   "name": "python3"
  },
  "language_info": {
   "codemirror_mode": {
    "name": "ipython",
    "version": 3
   },
   "file_extension": ".py",
   "mimetype": "text/x-python",
   "name": "python",
   "nbconvert_exporter": "python",
   "pygments_lexer": "ipython3",
   "version": "3.11.5"
  }
 },
 "nbformat": 4,
 "nbformat_minor": 5
}
