{
 "cells": [
  {
   "cell_type": "code",
   "execution_count": 61,
   "id": "ff1f5891",
   "metadata": {},
   "outputs": [],
   "source": [
    "class Dog():\n",
    "    year = 7\n",
    "    def __init__(self,age):\n",
    "        self.age = age\n",
    "        print(\"das Alter der Hunde wurde hinzugefügt\")\n",
    "    def HumanAge(self):\n",
    "        return self.age * self.year  #--> Dog.year auch wird nutzbar. "
   ]
  },
  {
   "cell_type": "code",
   "execution_count": 62,
   "id": "8d3c176e",
   "metadata": {},
   "outputs": [
    {
     "name": "stdout",
     "output_type": "stream",
     "text": [
      "das Alter der Hunde wurde hinzugefügt\n"
     ]
    }
   ],
   "source": [
    "myDog = Dog(5)"
   ]
  },
  {
   "cell_type": "code",
   "execution_count": 63,
   "id": "3dc585c8",
   "metadata": {},
   "outputs": [
    {
     "data": {
      "text/plain": [
       "5"
      ]
     },
     "execution_count": 63,
     "metadata": {},
     "output_type": "execute_result"
    }
   ],
   "source": [
    "myDog.age"
   ]
  },
  {
   "cell_type": "code",
   "execution_count": 64,
   "id": "69d308fc",
   "metadata": {},
   "outputs": [
    {
     "data": {
      "text/plain": [
       "35"
      ]
     },
     "execution_count": 64,
     "metadata": {},
     "output_type": "execute_result"
    }
   ],
   "source": [
    "myDog.HumanAge()"
   ]
  },
  {
   "cell_type": "code",
   "execution_count": null,
   "id": "32e512fc",
   "metadata": {},
   "outputs": [],
   "source": []
  }
 ],
 "metadata": {
  "kernelspec": {
   "display_name": "Python 3 (ipykernel)",
   "language": "python",
   "name": "python3"
  },
  "language_info": {
   "codemirror_mode": {
    "name": "ipython",
    "version": 3
   },
   "file_extension": ".py",
   "mimetype": "text/x-python",
   "name": "python",
   "nbconvert_exporter": "python",
   "pygments_lexer": "ipython3",
   "version": "3.11.5"
  }
 },
 "nbformat": 4,
 "nbformat_minor": 5
}
