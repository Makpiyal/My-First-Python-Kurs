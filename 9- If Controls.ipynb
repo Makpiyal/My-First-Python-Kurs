{
 "cells": [
  {
   "cell_type": "code",
   "execution_count": 1,
   "id": "e196551f",
   "metadata": {},
   "outputs": [],
   "source": [
    "x = 5\n",
    "y = 2"
   ]
  },
  {
   "cell_type": "code",
   "execution_count": 2,
   "id": "5a820138",
   "metadata": {},
   "outputs": [
    {
     "data": {
      "text/plain": [
       "True"
      ]
     },
     "execution_count": 2,
     "metadata": {},
     "output_type": "execute_result"
    }
   ],
   "source": [
    "x > y"
   ]
  },
  {
   "cell_type": "code",
   "execution_count": 3,
   "id": "c77259a0",
   "metadata": {},
   "outputs": [
    {
     "data": {
      "text/plain": [
       "False"
      ]
     },
     "execution_count": 3,
     "metadata": {},
     "output_type": "execute_result"
    }
   ],
   "source": [
    "x < y"
   ]
  },
  {
   "cell_type": "code",
   "execution_count": 4,
   "id": "50cc13d5",
   "metadata": {},
   "outputs": [
    {
     "data": {
      "text/plain": [
       "False"
      ]
     },
     "execution_count": 4,
     "metadata": {},
     "output_type": "execute_result"
    }
   ],
   "source": [
    "y > x"
   ]
  },
  {
   "cell_type": "code",
   "execution_count": 5,
   "id": "63ba69bc",
   "metadata": {},
   "outputs": [
    {
     "data": {
      "text/plain": [
       "True"
      ]
     },
     "execution_count": 5,
     "metadata": {},
     "output_type": "execute_result"
    }
   ],
   "source": [
    "y < x "
   ]
  },
  {
   "cell_type": "code",
   "execution_count": 6,
   "id": "91a09bf6",
   "metadata": {},
   "outputs": [
    {
     "data": {
      "text/plain": [
       "False"
      ]
     },
     "execution_count": 6,
     "metadata": {},
     "output_type": "execute_result"
    }
   ],
   "source": [
    "x <=y"
   ]
  },
  {
   "cell_type": "code",
   "execution_count": 7,
   "id": "c9655373",
   "metadata": {},
   "outputs": [],
   "source": [
    "x = 10\n",
    "y = 8"
   ]
  },
  {
   "cell_type": "code",
   "execution_count": 8,
   "id": "9632d955",
   "metadata": {},
   "outputs": [],
   "source": [
    "x = y"
   ]
  },
  {
   "cell_type": "code",
   "execution_count": 9,
   "id": "2f9de17d",
   "metadata": {},
   "outputs": [],
   "source": [
    "x = 10"
   ]
  },
  {
   "cell_type": "code",
   "execution_count": 10,
   "id": "f577e509",
   "metadata": {},
   "outputs": [
    {
     "data": {
      "text/plain": [
       "False"
      ]
     },
     "execution_count": 10,
     "metadata": {},
     "output_type": "execute_result"
    }
   ],
   "source": [
    "x == y"
   ]
  },
  {
   "cell_type": "code",
   "execution_count": 11,
   "id": "5148fc5d",
   "metadata": {},
   "outputs": [
    {
     "data": {
      "text/plain": [
       "True"
      ]
     },
     "execution_count": 11,
     "metadata": {},
     "output_type": "execute_result"
    }
   ],
   "source": [
    "x!=y"
   ]
  },
  {
   "cell_type": "code",
   "execution_count": 12,
   "id": "e39c2c6a",
   "metadata": {},
   "outputs": [
    {
     "data": {
      "text/plain": [
       "True"
      ]
     },
     "execution_count": 12,
     "metadata": {},
     "output_type": "execute_result"
    }
   ],
   "source": [
    "2>1 and 3 >2"
   ]
  },
  {
   "cell_type": "code",
   "execution_count": 13,
   "id": "57e4619c",
   "metadata": {},
   "outputs": [
    {
     "data": {
      "text/plain": [
       "False"
      ]
     },
     "execution_count": 13,
     "metadata": {},
     "output_type": "execute_result"
    }
   ],
   "source": [
    "1 > 2 or 3 < 2"
   ]
  },
  {
   "cell_type": "code",
   "execution_count": 14,
   "id": "964765c3",
   "metadata": {},
   "outputs": [
    {
     "data": {
      "text/plain": [
       "True"
      ]
     },
     "execution_count": 14,
     "metadata": {},
     "output_type": "execute_result"
    }
   ],
   "source": [
    "True and True"
   ]
  },
  {
   "cell_type": "code",
   "execution_count": 15,
   "id": "72b10586",
   "metadata": {},
   "outputs": [
    {
     "data": {
      "text/plain": [
       "False"
      ]
     },
     "execution_count": 15,
     "metadata": {},
     "output_type": "execute_result"
    }
   ],
   "source": [
    "True and False"
   ]
  },
  {
   "cell_type": "code",
   "execution_count": 17,
   "id": "7bdb03fc",
   "metadata": {},
   "outputs": [
    {
     "data": {
      "text/plain": [
       "False"
      ]
     },
     "execution_count": 17,
     "metadata": {},
     "output_type": "execute_result"
    }
   ],
   "source": [
    "False and False"
   ]
  },
  {
   "cell_type": "code",
   "execution_count": 18,
   "id": "86fa83c4",
   "metadata": {},
   "outputs": [
    {
     "data": {
      "text/plain": [
       "False"
      ]
     },
     "execution_count": 18,
     "metadata": {},
     "output_type": "execute_result"
    }
   ],
   "source": [
    "not 1 == 1"
   ]
  },
  {
   "cell_type": "code",
   "execution_count": 19,
   "id": "4425120a",
   "metadata": {},
   "outputs": [
    {
     "data": {
      "text/plain": [
       "True"
      ]
     },
     "execution_count": 19,
     "metadata": {},
     "output_type": "execute_result"
    }
   ],
   "source": [
    "10 in [10,20,30]"
   ]
  },
  {
   "cell_type": "code",
   "execution_count": 20,
   "id": "6774caf4",
   "metadata": {},
   "outputs": [
    {
     "data": {
      "text/plain": [
       "True"
      ]
     },
     "execution_count": 20,
     "metadata": {},
     "output_type": "execute_result"
    }
   ],
   "source": [
    "5 not in [10,20,30]"
   ]
  },
  {
   "cell_type": "code",
   "execution_count": 21,
   "id": "7048b13d",
   "metadata": {},
   "outputs": [
    {
     "data": {
      "text/plain": [
       "False"
      ]
     },
     "execution_count": 21,
     "metadata": {},
     "output_type": "execute_result"
    }
   ],
   "source": [
    "10 not in [10,20,30]"
   ]
  },
  {
   "cell_type": "code",
   "execution_count": 22,
   "id": "812b5b6f",
   "metadata": {},
   "outputs": [],
   "source": [
    "my_dictionary = {\"a\": 10, \"b\": 20, \"c\": 30}"
   ]
  },
  {
   "cell_type": "code",
   "execution_count": 23,
   "id": "1330f3bc",
   "metadata": {},
   "outputs": [
    {
     "data": {
      "text/plain": [
       "True"
      ]
     },
     "execution_count": 23,
     "metadata": {},
     "output_type": "execute_result"
    }
   ],
   "source": [
    "10 in my_dictionary.values()"
   ]
  },
  {
   "cell_type": "code",
   "execution_count": 29,
   "id": "32769b5a",
   "metadata": {},
   "outputs": [
    {
     "data": {
      "text/plain": [
       "False"
      ]
     },
     "execution_count": 29,
     "metadata": {},
     "output_type": "execute_result"
    }
   ],
   "source": [
    "\"d\" in my_dictionary.keys()"
   ]
  },
  {
   "cell_type": "code",
   "execution_count": 30,
   "id": "259cf3e4",
   "metadata": {},
   "outputs": [
    {
     "data": {
      "text/plain": [
       "True"
      ]
     },
     "execution_count": 30,
     "metadata": {},
     "output_type": "execute_result"
    }
   ],
   "source": [
    "10 in (10,20,30)"
   ]
  },
  {
   "cell_type": "code",
   "execution_count": 35,
   "id": "8eb4dc27",
   "metadata": {},
   "outputs": [],
   "source": [
    "my_superhero = \"Batman\""
   ]
  },
  {
   "cell_type": "code",
   "execution_count": 36,
   "id": "e5e5f04e",
   "metadata": {},
   "outputs": [
    {
     "data": {
      "text/plain": [
       "True"
      ]
     },
     "execution_count": 36,
     "metadata": {},
     "output_type": "execute_result"
    }
   ],
   "source": [
    "my_superhero ==\"Batman\""
   ]
  },
  {
   "cell_type": "code",
   "execution_count": 38,
   "id": "2547631e",
   "metadata": {},
   "outputs": [
    {
     "data": {
      "text/plain": [
       "False"
      ]
     },
     "execution_count": 38,
     "metadata": {},
     "output_type": "execute_result"
    }
   ],
   "source": [
    "my_superhero ==\"Superman\""
   ]
  },
  {
   "cell_type": "code",
   "execution_count": 34,
   "id": "0b66598e",
   "metadata": {},
   "outputs": [
    {
     "name": "stdout",
     "output_type": "stream",
     "text": [
      "Is your superhero Superman?Superman\n",
      "Your choise is false\n"
     ]
    }
   ],
   "source": [
    "x = input(\"Is your superhero Superman?\")\n",
    "if x == my_superhero:\n",
    "    print(\"Your choice is true\")\n",
    "else:\n",
    "    print(\"Your choice is false\")"
   ]
  },
  {
   "cell_type": "code",
   "execution_count": 42,
   "id": "a46290bc",
   "metadata": {},
   "outputs": [
    {
     "name": "stdout",
     "output_type": "stream",
     "text": [
      "batmannn\n",
      "Atil samancioglu\n",
      "hello python\n"
     ]
    }
   ],
   "source": [
    "if my_superhero ==\"Batman\":\n",
    "#indentation\n",
    "    print(\"batmannn\")\n",
    "    print(\"Atil samancioglu\")\n",
    "print(\"hello python\")"
   ]
  },
  {
   "cell_type": "code",
   "execution_count": 43,
   "id": "52712eb1",
   "metadata": {},
   "outputs": [
    {
     "name": "stdout",
     "output_type": "stream",
     "text": [
      "hello world\n",
      "Muhammed\n"
     ]
    }
   ],
   "source": [
    "if 3 > 2:\n",
    "    print(\"hello world\")\n",
    "    print(\"Muhammed\")"
   ]
  },
  {
   "cell_type": "code",
   "execution_count": 44,
   "id": "9d429e21",
   "metadata": {},
   "outputs": [
    {
     "data": {
      "text/plain": [
       "'Batman'"
      ]
     },
     "execution_count": 44,
     "metadata": {},
     "output_type": "execute_result"
    }
   ],
   "source": [
    "my_superhero"
   ]
  },
  {
   "cell_type": "code",
   "execution_count": 46,
   "id": "aeda0e64",
   "metadata": {},
   "outputs": [
    {
     "name": "stdout",
     "output_type": "stream",
     "text": [
      "Bitte schreiben Sie Ihren lieblings SuperheldenBatman\n",
      "Batman ist die beste Superhelden\n"
     ]
    }
   ],
   "source": [
    "x = input(\"Bitte schreiben Sie Ihren lieblings Superhelden\")\n",
    "if x ==\"Batman\":\n",
    "    print(\"Batman ist die beste Superhelden\")\n",
    "elif x ==\"Superman\":\n",
    "    print(\"Superman ist die beste Superhelden\")\n",
    "else:\n",
    "    print(\"Ihr Superhelden leider nicht in der Liste\")"
   ]
  },
  {
   "cell_type": "code",
   "execution_count": 54,
   "id": "3fa8a80f",
   "metadata": {},
   "outputs": [],
   "source": [
    "my_age = 15"
   ]
  },
  {
   "cell_type": "code",
   "execution_count": 57,
   "id": "a3bb3a5d",
   "metadata": {},
   "outputs": [
    {
     "name": "stdout",
     "output_type": "stream",
     "text": [
      "age < 18\n"
     ]
    }
   ],
   "source": [
    "if my_age < 18:\n",
    "    print(\"age < 18\")\n",
    "elif my_age > 18 and my_age< 30:\n",
    "    print(\"age = 18\")\n",
    "else:\n",
    "    print(\"Age > 18\")"
   ]
  },
  {
   "cell_type": "code",
   "execution_count": 78,
   "id": "0e1a1190",
   "metadata": {},
   "outputs": [
    {
     "name": "stdout",
     "output_type": "stream",
     "text": [
      "Bitte die Name Ihren Superhelden schreibenSuper Yarak\n"
     ]
    }
   ],
   "source": [
    "my_superhero = input(\"Bitte die Name Ihren Superhelden schreiben\")"
   ]
  },
  {
   "cell_type": "code",
   "execution_count": 79,
   "id": "81049e7a",
   "metadata": {},
   "outputs": [],
   "source": [
    "my_superhero_list = [\"Spider Man\", \"Iron Man\",\"Thor\", \"Black Widow\"]"
   ]
  },
  {
   "cell_type": "code",
   "execution_count": 80,
   "id": "6a9c0a51",
   "metadata": {},
   "outputs": [
    {
     "name": "stdout",
     "output_type": "stream",
     "text": [
      ":(\n"
     ]
    }
   ],
   "source": [
    "if my_superhero in my_superhero_list:\n",
    "    print(\":)\")\n",
    "else:\n",
    "    print(\":(\")"
   ]
  }
 ],
 "metadata": {
  "kernelspec": {
   "display_name": "Python 3 (ipykernel)",
   "language": "python",
   "name": "python3"
  },
  "language_info": {
   "codemirror_mode": {
    "name": "ipython",
    "version": 3
   },
   "file_extension": ".py",
   "mimetype": "text/x-python",
   "name": "python",
   "nbconvert_exporter": "python",
   "pygments_lexer": "ipython3",
   "version": "3.11.5"
  }
 },
 "nbformat": 4,
 "nbformat_minor": 5
}
