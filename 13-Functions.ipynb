{
 "cells": [
  {
   "cell_type": "code",
   "execution_count": 1,
   "id": "a309719e",
   "metadata": {},
   "outputs": [],
   "source": [
    "# method vs function"
   ]
  },
  {
   "cell_type": "code",
   "execution_count": 2,
   "id": "24d92dcd",
   "metadata": {},
   "outputs": [],
   "source": [
    "my_name = \"atil\""
   ]
  },
  {
   "cell_type": "code",
   "execution_count": 3,
   "id": "68874b25",
   "metadata": {},
   "outputs": [
    {
     "data": {
      "text/plain": [
       "'ATIL'"
      ]
     },
     "execution_count": 3,
     "metadata": {},
     "output_type": "execute_result"
    }
   ],
   "source": [
    "my_name.upper()"
   ]
  },
  {
   "cell_type": "code",
   "execution_count": 4,
   "id": "7497173e",
   "metadata": {},
   "outputs": [],
   "source": [
    "my_name_upper = my_name.upper()"
   ]
  },
  {
   "cell_type": "code",
   "execution_count": 5,
   "id": "6c80366c",
   "metadata": {},
   "outputs": [
    {
     "data": {
      "text/plain": [
       "'ATIL'"
      ]
     },
     "execution_count": 5,
     "metadata": {},
     "output_type": "execute_result"
    }
   ],
   "source": [
    "my_name_upper"
   ]
  },
  {
   "cell_type": "code",
   "execution_count": 6,
   "id": "09ed4576",
   "metadata": {},
   "outputs": [
    {
     "name": "stdout",
     "output_type": "stream",
     "text": [
      "Help on built-in function upper:\n",
      "\n",
      "upper() method of builtins.str instance\n",
      "    Return a copy of the string converted to uppercase.\n",
      "\n"
     ]
    }
   ],
   "source": [
    "help(my_name.upper)"
   ]
  },
  {
   "cell_type": "code",
   "execution_count": 7,
   "id": "eccfecf2",
   "metadata": {},
   "outputs": [],
   "source": [
    "#functions"
   ]
  },
  {
   "cell_type": "code",
   "execution_count": 8,
   "id": "9419b748",
   "metadata": {},
   "outputs": [],
   "source": [
    "def hello_python():\n",
    "    print(\"hello\")\n",
    "    print(\"python\")"
   ]
  },
  {
   "cell_type": "code",
   "execution_count": 9,
   "id": "b22789b0",
   "metadata": {},
   "outputs": [
    {
     "data": {
      "text/plain": [
       "<function __main__.hello_python()>"
      ]
     },
     "execution_count": 9,
     "metadata": {},
     "output_type": "execute_result"
    }
   ],
   "source": [
    "hello_python"
   ]
  },
  {
   "cell_type": "code",
   "execution_count": 10,
   "id": "bcf57bb1",
   "metadata": {},
   "outputs": [
    {
     "name": "stdout",
     "output_type": "stream",
     "text": [
      "hello\n",
      "python\n"
     ]
    }
   ],
   "source": [
    "hello_python()"
   ]
  },
  {
   "cell_type": "code",
   "execution_count": 11,
   "id": "17f1b601",
   "metadata": {},
   "outputs": [
    {
     "name": "stdout",
     "output_type": "stream",
     "text": [
      "hello\n",
      "python\n"
     ]
    }
   ],
   "source": [
    "hello_python()"
   ]
  },
  {
   "cell_type": "code",
   "execution_count": 12,
   "id": "791def08",
   "metadata": {},
   "outputs": [],
   "source": [
    "#input"
   ]
  },
  {
   "cell_type": "code",
   "execution_count": 13,
   "id": "fb9d8759",
   "metadata": {},
   "outputs": [],
   "source": [
    "def hello_name(name):\n",
    "    print(\"hello\")\n",
    "    print(name)"
   ]
  },
  {
   "cell_type": "code",
   "execution_count": 14,
   "id": "676e4e10",
   "metadata": {},
   "outputs": [
    {
     "name": "stdout",
     "output_type": "stream",
     "text": [
      "hello\n",
      "muhammed\n"
     ]
    }
   ],
   "source": [
    "hello_name(\"muhammed\")"
   ]
  },
  {
   "cell_type": "code",
   "execution_count": 15,
   "id": "e73b3c37",
   "metadata": {},
   "outputs": [
    {
     "name": "stdout",
     "output_type": "stream",
     "text": [
      "hello\n",
      "Akpiyal\n"
     ]
    }
   ],
   "source": [
    "hello_name(\"Akpiyal\")"
   ]
  },
  {
   "cell_type": "code",
   "execution_count": 16,
   "id": "f93b17d2",
   "metadata": {},
   "outputs": [
    {
     "name": "stdout",
     "output_type": "stream",
     "text": [
      "hello\n",
      "java\n"
     ]
    }
   ],
   "source": [
    "hello_name(\"java\")"
   ]
  },
  {
   "cell_type": "code",
   "execution_count": 22,
   "id": "8e13ec57",
   "metadata": {},
   "outputs": [],
   "source": [
    "def sum_example(num1, num2):\n",
    "    print(num1+num2)"
   ]
  },
  {
   "cell_type": "code",
   "execution_count": 23,
   "id": "e3a81a63",
   "metadata": {},
   "outputs": [
    {
     "name": "stdout",
     "output_type": "stream",
     "text": [
      "15\n"
     ]
    }
   ],
   "source": [
    "sum_example(5,10)"
   ]
  },
  {
   "cell_type": "code",
   "execution_count": 28,
   "id": "b38a1c5a",
   "metadata": {},
   "outputs": [],
   "source": [
    "def sum_example(num1, num2):\n",
    "    num3 = num1 + num2\n",
    "    print(num1 + num2)"
   ]
  },
  {
   "cell_type": "code",
   "execution_count": 30,
   "id": "da1fda91",
   "metadata": {},
   "outputs": [
    {
     "name": "stdout",
     "output_type": "stream",
     "text": [
      "25\n"
     ]
    }
   ],
   "source": [
    "sum_example(20,5)"
   ]
  },
  {
   "cell_type": "code",
   "execution_count": 32,
   "id": "67c320ee",
   "metadata": {},
   "outputs": [],
   "source": [
    "def hello_surname(surname):\n",
    "    print(\"hello\")\n",
    "    print(surname)"
   ]
  },
  {
   "cell_type": "code",
   "execution_count": 36,
   "id": "24de3d34",
   "metadata": {},
   "outputs": [
    {
     "name": "stdout",
     "output_type": "stream",
     "text": [
      "hello\n",
      "Akpiyal\n"
     ]
    }
   ],
   "source": [
    "hello_surname(surname = \"Akpiyal\")"
   ]
  },
  {
   "cell_type": "code",
   "execution_count": 37,
   "id": "ab8e83f2",
   "metadata": {},
   "outputs": [],
   "source": [
    "#return"
   ]
  },
  {
   "cell_type": "code",
   "execution_count": 38,
   "id": "794ff542",
   "metadata": {},
   "outputs": [],
   "source": [
    "def summation(num1,num2,num3):\n",
    "    print(num1+num2+num3)"
   ]
  },
  {
   "cell_type": "code",
   "execution_count": 39,
   "id": "1422cb74",
   "metadata": {},
   "outputs": [
    {
     "name": "stdout",
     "output_type": "stream",
     "text": [
      "20\n"
     ]
    }
   ],
   "source": [
    "summation(10,2,8)"
   ]
  },
  {
   "cell_type": "code",
   "execution_count": 40,
   "id": "d8a2b177",
   "metadata": {},
   "outputs": [
    {
     "name": "stdout",
     "output_type": "stream",
     "text": [
      "20\n"
     ]
    }
   ],
   "source": [
    "x = summation(10,2,8)"
   ]
  },
  {
   "cell_type": "code",
   "execution_count": 41,
   "id": "677fbb5d",
   "metadata": {},
   "outputs": [
    {
     "name": "stdout",
     "output_type": "stream",
     "text": [
      "None\n"
     ]
    }
   ],
   "source": [
    "print(x)"
   ]
  },
  {
   "cell_type": "code",
   "execution_count": 42,
   "id": "49260061",
   "metadata": {},
   "outputs": [
    {
     "data": {
      "text/plain": [
       "NoneType"
      ]
     },
     "execution_count": 42,
     "metadata": {},
     "output_type": "execute_result"
    }
   ],
   "source": [
    "type(x)"
   ]
  },
  {
   "cell_type": "code",
   "execution_count": 43,
   "id": "50202b38",
   "metadata": {},
   "outputs": [],
   "source": [
    "def return_summation(num1,num2,num3):\n",
    "    return(num1+num2+num3)"
   ]
  },
  {
   "cell_type": "code",
   "execution_count": 44,
   "id": "4bbc086d",
   "metadata": {},
   "outputs": [
    {
     "data": {
      "text/plain": [
       "20"
      ]
     },
     "execution_count": 44,
     "metadata": {},
     "output_type": "execute_result"
    }
   ],
   "source": [
    "return_summation(10,2,8)"
   ]
  },
  {
   "cell_type": "code",
   "execution_count": 45,
   "id": "72c23359",
   "metadata": {},
   "outputs": [],
   "source": [
    "x = return_summation(10,2,8)"
   ]
  },
  {
   "cell_type": "code",
   "execution_count": 46,
   "id": "23b3540a",
   "metadata": {},
   "outputs": [
    {
     "data": {
      "text/plain": [
       "20"
      ]
     },
     "execution_count": 46,
     "metadata": {},
     "output_type": "execute_result"
    }
   ],
   "source": [
    "x"
   ]
  },
  {
   "cell_type": "code",
   "execution_count": 58,
   "id": "42296c26",
   "metadata": {},
   "outputs": [],
   "source": [
    "def return_summation(num1,num2,num3):\n",
    "    result = num1+num2+num3\n",
    "    print(result)\n",
    "    return result"
   ]
  },
  {
   "cell_type": "code",
   "execution_count": 59,
   "id": "c0461798",
   "metadata": {
    "scrolled": true
   },
   "outputs": [
    {
     "name": "stdout",
     "output_type": "stream",
     "text": [
      "20\n"
     ]
    }
   ],
   "source": [
    "x = return_summation(10,2,8)"
   ]
  },
  {
   "cell_type": "code",
   "execution_count": 61,
   "id": "ea00658e",
   "metadata": {},
   "outputs": [
    {
     "data": {
      "text/plain": [
       "20"
      ]
     },
     "execution_count": 61,
     "metadata": {},
     "output_type": "execute_result"
    }
   ],
   "source": [
    "x"
   ]
  },
  {
   "cell_type": "code",
   "execution_count": 68,
   "id": "e9252fac",
   "metadata": {},
   "outputs": [],
   "source": [
    "def control_string(s):\n",
    "    if s[0] == \"a\":\n",
    "        print(\"a\")\n",
    "    else:\n",
    "            print(\"das string fangt nicht mit 'a' an\")"
   ]
  },
  {
   "cell_type": "code",
   "execution_count": 69,
   "id": "5ae3ae59",
   "metadata": {},
   "outputs": [
    {
     "name": "stdout",
     "output_type": "stream",
     "text": [
      "das string fangt nicht mit 'a' an\n"
     ]
    }
   ],
   "source": [
    "control_string(\"s\")"
   ]
  },
  {
   "cell_type": "code",
   "execution_count": 70,
   "id": "0d5e048e",
   "metadata": {},
   "outputs": [
    {
     "name": "stdout",
     "output_type": "stream",
     "text": [
      "a\n"
     ]
    }
   ],
   "source": [
    "control_string(\"atlas\")"
   ]
  },
  {
   "cell_type": "code",
   "execution_count": 71,
   "id": "d76a11b1",
   "metadata": {},
   "outputs": [
    {
     "name": "stdout",
     "output_type": "stream",
     "text": [
      "das string fangt nicht mit 'a' an\n"
     ]
    }
   ],
   "source": [
    "control_string(\"james\")"
   ]
  },
  {
   "cell_type": "code",
   "execution_count": 72,
   "id": "199d7c02",
   "metadata": {},
   "outputs": [],
   "source": [
    "#args,kwargs(arguments,key word arguments)"
   ]
  },
  {
   "cell_type": "code",
   "execution_count": 73,
   "id": "63e02674",
   "metadata": {},
   "outputs": [],
   "source": [
    "def args_sum(*args):\n",
    "    return sum(args)"
   ]
  },
  {
   "cell_type": "code",
   "execution_count": 74,
   "id": "0efd1f2e",
   "metadata": {},
   "outputs": [
    {
     "data": {
      "text/plain": [
       "432"
      ]
     },
     "execution_count": 74,
     "metadata": {},
     "output_type": "execute_result"
    }
   ],
   "source": [
    "args_sum(21,50,60,70,231)"
   ]
  },
  {
   "cell_type": "code",
   "execution_count": 75,
   "id": "7e7dd624",
   "metadata": {},
   "outputs": [],
   "source": [
    "def args_example(*args):\n",
    "    print(args)"
   ]
  },
  {
   "cell_type": "code",
   "execution_count": 76,
   "id": "e39de75c",
   "metadata": {},
   "outputs": [
    {
     "name": "stdout",
     "output_type": "stream",
     "text": [
      "(123, 1203132, 343, 123, 34)\n"
     ]
    }
   ],
   "source": [
    "args_example(123,1203132,343,123,34)"
   ]
  },
  {
   "cell_type": "code",
   "execution_count": 77,
   "id": "5c7b058b",
   "metadata": {},
   "outputs": [],
   "source": [
    "#**kwargs methodu"
   ]
  },
  {
   "cell_type": "code",
   "execution_count": 78,
   "id": "e419f6ab",
   "metadata": {},
   "outputs": [],
   "source": [
    "def kwargs_example(**kwargs):\n",
    "    print(kwargs)"
   ]
  },
  {
   "cell_type": "code",
   "execution_count": 79,
   "id": "16a94f14",
   "metadata": {},
   "outputs": [
    {
     "name": "stdout",
     "output_type": "stream",
     "text": [
      "{'appel': 100, 'banana': 150, 'melon': 200}\n"
     ]
    }
   ],
   "source": [
    "kwargs_example(appel=100,banana=150,melon=200)"
   ]
  },
  {
   "cell_type": "code",
   "execution_count": 80,
   "id": "3b1be4ff",
   "metadata": {},
   "outputs": [],
   "source": [
    "def kwargs_example_2(**kwargs):\n",
    "    if \"apple\" in kwargs:\n",
    "        print(\"appleee\")\n",
    "    else:\n",
    "        print(\":(\")"
   ]
  },
  {
   "cell_type": "code",
   "execution_count": 84,
   "id": "78c8e5e1",
   "metadata": {},
   "outputs": [
    {
     "name": "stdout",
     "output_type": "stream",
     "text": [
      "appleee\n"
     ]
    }
   ],
   "source": [
    "kwargs_example_2(apple=10)"
   ]
  },
  {
   "cell_type": "code",
   "execution_count": 8,
   "id": "85ce8106",
   "metadata": {},
   "outputs": [],
   "source": [
    "def kwargs_example_2(**kwargs):\n",
    "    if \"apple\" in kwargs:\n",
    "         print(\"Appleee\")\n",
    "    else:\n",
    "                print(\":(\")"
   ]
  },
  {
   "cell_type": "code",
   "execution_count": 9,
   "id": "0d35fadf",
   "metadata": {},
   "outputs": [
    {
     "name": "stdout",
     "output_type": "stream",
     "text": [
      ":(\n"
     ]
    }
   ],
   "source": [
    "kwargs_example_2(lemon = 200, applee = 100)"
   ]
  },
  {
   "cell_type": "code",
   "execution_count": null,
   "id": "e6225a9c",
   "metadata": {},
   "outputs": [],
   "source": []
  }
 ],
 "metadata": {
  "kernelspec": {
   "display_name": "Python 3 (ipykernel)",
   "language": "python",
   "name": "python3"
  },
  "language_info": {
   "codemirror_mode": {
    "name": "ipython",
    "version": 3
   },
   "file_extension": ".py",
   "mimetype": "text/x-python",
   "name": "python",
   "nbconvert_exporter": "python",
   "pygments_lexer": "ipython3",
   "version": "3.11.5"
  }
 },
 "nbformat": 4,
 "nbformat_minor": 5
}
