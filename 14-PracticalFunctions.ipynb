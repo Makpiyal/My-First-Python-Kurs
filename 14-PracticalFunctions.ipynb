{
 "cells": [
  {
   "cell_type": "code",
   "execution_count": 44,
   "id": "692623ad",
   "metadata": {},
   "outputs": [],
   "source": [
    "def divide_number(num):\n",
    "    return num / 2"
   ]
  },
  {
   "cell_type": "code",
   "execution_count": 45,
   "id": "57e809dc",
   "metadata": {},
   "outputs": [],
   "source": [
    "my_list = [3,5,7,10,20,30]\n",
    "my_resultlist = []"
   ]
  },
  {
   "cell_type": "code",
   "execution_count": 49,
   "id": "80063706",
   "metadata": {},
   "outputs": [],
   "source": [
    "for x in my_list:\n",
    "    my_resultlist.append(divide_number(x))"
   ]
  },
  {
   "cell_type": "code",
   "execution_count": 50,
   "id": "8782dfc8",
   "metadata": {},
   "outputs": [
    {
     "data": {
      "text/plain": [
       "[1.5, 2.5, 3.5, 5.0, 10.0, 15.0]"
      ]
     },
     "execution_count": 50,
     "metadata": {},
     "output_type": "execute_result"
    }
   ],
   "source": [
    "my_result_list"
   ]
  },
  {
   "cell_type": "markdown",
   "id": "74ffd43b",
   "metadata": {},
   "source": [
    "# map "
   ]
  },
  {
   "cell_type": "code",
   "execution_count": 51,
   "id": "5af42c4e",
   "metadata": {},
   "outputs": [
    {
     "name": "stdout",
     "output_type": "stream",
     "text": [
      "Help on class map in module builtins:\n",
      "\n",
      "class map(object)\n",
      " |  map(func, *iterables) --> map object\n",
      " |  \n",
      " |  Make an iterator that computes the function using arguments from\n",
      " |  each of the iterables.  Stops when the shortest iterable is exhausted.\n",
      " |  \n",
      " |  Methods defined here:\n",
      " |  \n",
      " |  __getattribute__(self, name, /)\n",
      " |      Return getattr(self, name).\n",
      " |  \n",
      " |  __iter__(self, /)\n",
      " |      Implement iter(self).\n",
      " |  \n",
      " |  __next__(self, /)\n",
      " |      Implement next(self).\n",
      " |  \n",
      " |  __reduce__(...)\n",
      " |      Return state information for pickling.\n",
      " |  \n",
      " |  ----------------------------------------------------------------------\n",
      " |  Static methods defined here:\n",
      " |  \n",
      " |  __new__(*args, **kwargs) from builtins.type\n",
      " |      Create and return a new object.  See help(type) for accurate signature.\n",
      "\n"
     ]
    }
   ],
   "source": [
    "help(map)"
   ]
  },
  {
   "cell_type": "code",
   "execution_count": 55,
   "id": "a1344789",
   "metadata": {},
   "outputs": [
    {
     "data": {
      "text/plain": [
       "[1.5, 2.5, 3.5, 5.0, 10.0, 15.0]"
      ]
     },
     "execution_count": 55,
     "metadata": {},
     "output_type": "execute_result"
    }
   ],
   "source": [
    "list(map(divide_number,my_list))"
   ]
  },
  {
   "cell_type": "code",
   "execution_count": 63,
   "id": "28b36d71",
   "metadata": {},
   "outputs": [],
   "source": [
    "def controlString(string):\n",
    "    return \"Atlas\" in string"
   ]
  },
  {
   "cell_type": "code",
   "execution_count": 64,
   "id": "e1cf4464",
   "metadata": {},
   "outputs": [
    {
     "data": {
      "text/plain": [
       "False"
      ]
     },
     "execution_count": 64,
     "metadata": {},
     "output_type": "execute_result"
    }
   ],
   "source": [
    "controlString(\"Muhammed Akpiyal\")"
   ]
  },
  {
   "cell_type": "code",
   "execution_count": 65,
   "id": "a1bd370a",
   "metadata": {},
   "outputs": [
    {
     "data": {
      "text/plain": [
       "False"
      ]
     },
     "execution_count": 65,
     "metadata": {},
     "output_type": "execute_result"
    }
   ],
   "source": [
    "controlString(\"Akpiyal\")"
   ]
  },
  {
   "cell_type": "code",
   "execution_count": 66,
   "id": "072bc20e",
   "metadata": {},
   "outputs": [],
   "source": [
    "myStringList = [\"Atil\", \"Atlas\", \"Fernando\",\"David\"]"
   ]
  },
  {
   "cell_type": "code",
   "execution_count": 67,
   "id": "3f6b60f2",
   "metadata": {},
   "outputs": [
    {
     "data": {
      "text/plain": [
       "[False, True, False, False]"
      ]
     },
     "execution_count": 67,
     "metadata": {},
     "output_type": "execute_result"
    }
   ],
   "source": [
    "list(map(controlString, myStringList))"
   ]
  },
  {
   "cell_type": "markdown",
   "id": "cbafef75",
   "metadata": {},
   "source": [
    "# filter"
   ]
  },
  {
   "cell_type": "code",
   "execution_count": 68,
   "id": "9758af7f",
   "metadata": {},
   "outputs": [
    {
     "data": {
      "text/plain": [
       "['Atlas']"
      ]
     },
     "execution_count": 68,
     "metadata": {},
     "output_type": "execute_result"
    }
   ],
   "source": [
    "list(filter(controlString,myStringList))"
   ]
  },
  {
   "cell_type": "markdown",
   "id": "4df92abf",
   "metadata": {},
   "source": [
    "# lambda"
   ]
  },
  {
   "cell_type": "code",
   "execution_count": 69,
   "id": "5e5b7672",
   "metadata": {},
   "outputs": [],
   "source": [
    "multiply_lambda = lambda num: num * 3"
   ]
  },
  {
   "cell_type": "code",
   "execution_count": 70,
   "id": "a9bb17dc",
   "metadata": {},
   "outputs": [
    {
     "data": {
      "text/plain": [
       "function"
      ]
     },
     "execution_count": 70,
     "metadata": {},
     "output_type": "execute_result"
    }
   ],
   "source": [
    "type(multiply_lambda)"
   ]
  },
  {
   "cell_type": "code",
   "execution_count": 73,
   "id": "9444a268",
   "metadata": {},
   "outputs": [
    {
     "data": {
      "text/plain": [
       "60"
      ]
     },
     "execution_count": 73,
     "metadata": {},
     "output_type": "execute_result"
    }
   ],
   "source": [
    "multiply_lambda(20)"
   ]
  },
  {
   "cell_type": "code",
   "execution_count": 75,
   "id": "5cb0bd60",
   "metadata": {},
   "outputs": [],
   "source": [
    "result = multiply_lambda(10)"
   ]
  },
  {
   "cell_type": "code",
   "execution_count": 76,
   "id": "4748800f",
   "metadata": {},
   "outputs": [
    {
     "data": {
      "text/plain": [
       "30"
      ]
     },
     "execution_count": 76,
     "metadata": {},
     "output_type": "execute_result"
    }
   ],
   "source": [
    "result"
   ]
  },
  {
   "cell_type": "code",
   "execution_count": 77,
   "id": "71feb92b",
   "metadata": {},
   "outputs": [],
   "source": [
    "num_list = [10,20,30,40,50]"
   ]
  },
  {
   "cell_type": "code",
   "execution_count": 79,
   "id": "89d65920",
   "metadata": {},
   "outputs": [
    {
     "data": {
      "text/plain": [
       "[2.5, 5.0, 7.5, 10.0, 12.5]"
      ]
     },
     "execution_count": 79,
     "metadata": {},
     "output_type": "execute_result"
    }
   ],
   "source": [
    "list(map(lambda num: num / 4,num_list))"
   ]
  },
  {
   "cell_type": "code",
   "execution_count": null,
   "id": "5c171be1",
   "metadata": {},
   "outputs": [],
   "source": []
  }
 ],
 "metadata": {
  "kernelspec": {
   "display_name": "Python 3 (ipykernel)",
   "language": "python",
   "name": "python3"
  },
  "language_info": {
   "codemirror_mode": {
    "name": "ipython",
    "version": 3
   },
   "file_extension": ".py",
   "mimetype": "text/x-python",
   "name": "python",
   "nbconvert_exporter": "python",
   "pygments_lexer": "ipython3",
   "version": "3.11.5"
  }
 },
 "nbformat": 4,
 "nbformat_minor": 5
}
