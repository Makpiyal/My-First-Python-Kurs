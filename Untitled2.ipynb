{
 "cells": [
  {
   "cell_type": "markdown",
   "id": "6e10b79c",
   "metadata": {},
   "source": [
    "# inheritance"
   ]
  },
  {
   "cell_type": "code",
   "execution_count": 39,
   "id": "4d61021f",
   "metadata": {},
   "outputs": [],
   "source": [
    "class Musician():\n",
    "    def __init__(self,name):\n",
    "        self.name = name\n",
    "        print(\"musician class\")\n",
    "    def test1(self):\n",
    "        print(\"Test1 lauft\")\n",
    "    def test2(self):\n",
    "        print(\"Test2 lauft\")\n",
    "    def test3(self):\n",
    "        print(\"Test 3 Lauft\")\n",
    "    def test1(self):\n",
    "        print(\"test1 test1 test1\")"
   ]
  },
  {
   "cell_type": "code",
   "execution_count": 40,
   "id": "5c739caf",
   "metadata": {},
   "outputs": [
    {
     "name": "stdout",
     "output_type": "stream",
     "text": [
      "musician class\n"
     ]
    }
   ],
   "source": [
    "Muhammed = Musician(\"Muhammed\")"
   ]
  },
  {
   "cell_type": "code",
   "execution_count": 41,
   "id": "a24b35e4",
   "metadata": {},
   "outputs": [
    {
     "name": "stdout",
     "output_type": "stream",
     "text": [
      "test1 test1 test1\n"
     ]
    }
   ],
   "source": [
    "Muhammed.test1()"
   ]
  },
  {
   "cell_type": "code",
   "execution_count": 42,
   "id": "b5598d98",
   "metadata": {},
   "outputs": [
    {
     "name": "stdout",
     "output_type": "stream",
     "text": [
      "Test2 lauft\n"
     ]
    }
   ],
   "source": [
    "Muhammed.test2()"
   ]
  },
  {
   "cell_type": "code",
   "execution_count": 43,
   "id": "ceb57788",
   "metadata": {},
   "outputs": [],
   "source": [
    "class MusicianPlus(Musician):\n",
    "    def __init__(self,name):\n",
    "        Musician.__init__(self,name)\n",
    "        print(\"Musician Plus\")"
   ]
  },
  {
   "cell_type": "code",
   "execution_count": 44,
   "id": "d1aba477",
   "metadata": {},
   "outputs": [
    {
     "name": "stdout",
     "output_type": "stream",
     "text": [
      "musician class\n",
      "Musician Plus\n"
     ]
    }
   ],
   "source": [
    "Atlas = MusicianPlus(\"Atlas\")"
   ]
  },
  {
   "cell_type": "code",
   "execution_count": 45,
   "id": "3535fe40",
   "metadata": {},
   "outputs": [
    {
     "name": "stdout",
     "output_type": "stream",
     "text": [
      "test1 test1 test1\n"
     ]
    }
   ],
   "source": [
    "Atlas.test1()"
   ]
  },
  {
   "cell_type": "code",
   "execution_count": 36,
   "id": "cd98948a",
   "metadata": {},
   "outputs": [
    {
     "name": "stdout",
     "output_type": "stream",
     "text": [
      "Test 3 Lauft\n"
     ]
    }
   ],
   "source": [
    "Atlas.test3()"
   ]
  },
  {
   "cell_type": "code",
   "execution_count": 38,
   "id": "521ac983",
   "metadata": {},
   "outputs": [
    {
     "data": {
      "text/plain": [
       "__main__.Musician"
      ]
     },
     "execution_count": 38,
     "metadata": {},
     "output_type": "execute_result"
    }
   ],
   "source": [
    "type(Muhammed)"
   ]
  },
  {
   "cell_type": "code",
   "execution_count": null,
   "id": "66551128",
   "metadata": {},
   "outputs": [],
   "source": []
  }
 ],
 "metadata": {
  "kernelspec": {
   "display_name": "Python 3 (ipykernel)",
   "language": "python",
   "name": "python3"
  },
  "language_info": {
   "codemirror_mode": {
    "name": "ipython",
    "version": 3
   },
   "file_extension": ".py",
   "mimetype": "text/x-python",
   "name": "python",
   "nbconvert_exporter": "python",
   "pygments_lexer": "ipython3",
   "version": "3.11.5"
  }
 },
 "nbformat": 4,
 "nbformat_minor": 5
}
