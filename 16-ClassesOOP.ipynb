{
 "cells": [
  {
   "cell_type": "code",
   "execution_count": 1,
   "id": "6e776003",
   "metadata": {},
   "outputs": [],
   "source": [
    "myName = \"Muhammed\""
   ]
  },
  {
   "cell_type": "code",
   "execution_count": 2,
   "id": "ecaf0071",
   "metadata": {},
   "outputs": [],
   "source": [
    "myAge = 90"
   ]
  },
  {
   "cell_type": "code",
   "execution_count": 3,
   "id": "aee35b13",
   "metadata": {},
   "outputs": [],
   "source": [
    "MyGender = \"Male\""
   ]
  },
  {
   "cell_type": "code",
   "execution_count": 4,
   "id": "2f94d674",
   "metadata": {},
   "outputs": [
    {
     "ename": "NameError",
     "evalue": "name 'Person' is not defined",
     "output_type": "error",
     "traceback": [
      "\u001b[1;31m---------------------------------------------------------------------------\u001b[0m",
      "\u001b[1;31mNameError\u001b[0m                                 Traceback (most recent call last)",
      "Cell \u001b[1;32mIn[4], line 1\u001b[0m\n\u001b[1;32m----> 1\u001b[0m Muhammed \u001b[38;5;241m=\u001b[39m Person(\u001b[38;5;124m\"\u001b[39m\u001b[38;5;124mMuhammed\u001b[39m\u001b[38;5;124m\"\u001b[39m, \u001b[38;5;241m32\u001b[39m, \u001b[38;5;124m\"\u001b[39m\u001b[38;5;124mFemale\u001b[39m\u001b[38;5;124m\"\u001b[39m)\n",
      "\u001b[1;31mNameError\u001b[0m: name 'Person' is not defined"
     ]
    }
   ],
   "source": [
    "Muhammed = Person(\"Muhammed\", 32, \"Female\")"
   ]
  },
  {
   "cell_type": "code",
   "execution_count": null,
   "id": "05e573b3",
   "metadata": {},
   "outputs": [],
   "source": [
    "David = Person(\"David\",35,\"Male\")"
   ]
  },
  {
   "cell_type": "code",
   "execution_count": null,
   "id": "3be9360f",
   "metadata": {
    "scrolled": true
   },
   "outputs": [],
   "source": [
    "type(David)"
   ]
  },
  {
   "cell_type": "code",
   "execution_count": null,
   "id": "e2ce8542",
   "metadata": {},
   "outputs": [],
   "source": [
    "class Person():\n",
    "    #property\n",
    "    name    = \"\"\n",
    "    surname = \"\"\n",
    "    age     = \"\"\n",
    "    gender  = \"\"\n",
    "    job     = \"Developer\"\n",
    "    def __init__(self,name,surname,age,gender):\n",
    "        self.name = name\n",
    "        self.surname = surname\n",
    "        self.age = age\n",
    "        self.gender = gender\n",
    "        "
   ]
  },
  {
   "cell_type": "code",
   "execution_count": null,
   "id": "6e01aeed",
   "metadata": {},
   "outputs": [],
   "source": [
    "Muhammed = Person(\"Muhammed\",\"Akpiyal\",33,\"Male\")"
   ]
  },
  {
   "cell_type": "code",
   "execution_count": null,
   "id": "9feb45c0",
   "metadata": {},
   "outputs": [],
   "source": [
    "Muhammed.name"
   ]
  },
  {
   "cell_type": "code",
   "execution_count": null,
   "id": "52e3d54a",
   "metadata": {},
   "outputs": [],
   "source": [
    "Muhammed.age"
   ]
  },
  {
   "cell_type": "code",
   "execution_count": null,
   "id": "daf8584c",
   "metadata": {},
   "outputs": [],
   "source": [
    "Muhammed.job"
   ]
  },
  {
   "cell_type": "code",
   "execution_count": 20,
   "id": "8206f06a",
   "metadata": {},
   "outputs": [],
   "source": [
    "class Dog():\n",
    "    year = 7\n",
    "    def __init__(self,age=5):\n",
    "        self.age = age\n",
    "        self.dogHumanAge = age * self.year\n",
    "        print(\"dog instance\")\n",
    "        \n",
    "    def humanAge(self):\n",
    "        return self.age * Dog.year #--> Dog.year or self.year\n",
    "        "
   ]
  },
  {
   "cell_type": "code",
   "execution_count": 21,
   "id": "9ebd1da7",
   "metadata": {},
   "outputs": [
    {
     "name": "stdout",
     "output_type": "stream",
     "text": [
      "dog instance\n"
     ]
    }
   ],
   "source": [
    "my_dog = Dog(6)"
   ]
  },
  {
   "cell_type": "code",
   "execution_count": 22,
   "id": "d7162e3e",
   "metadata": {
    "scrolled": true
   },
   "outputs": [
    {
     "data": {
      "text/plain": [
       "42"
      ]
     },
     "execution_count": 22,
     "metadata": {},
     "output_type": "execute_result"
    }
   ],
   "source": [
    "my_dog.humanAge()"
   ]
  },
  {
   "cell_type": "code",
   "execution_count": 23,
   "id": "3e0c0881",
   "metadata": {},
   "outputs": [
    {
     "data": {
      "text/plain": [
       "42"
      ]
     },
     "execution_count": 23,
     "metadata": {},
     "output_type": "execute_result"
    }
   ],
   "source": [
    "my_dog.humanAge()"
   ]
  },
  {
   "cell_type": "code",
   "execution_count": 24,
   "id": "56bf3986",
   "metadata": {},
   "outputs": [
    {
     "data": {
      "text/plain": [
       "42"
      ]
     },
     "execution_count": 24,
     "metadata": {},
     "output_type": "execute_result"
    }
   ],
   "source": [
    "my_dog.dogHumanAge"
   ]
  },
  {
   "cell_type": "code",
   "execution_count": 25,
   "id": "234ca8d3",
   "metadata": {},
   "outputs": [
    {
     "name": "stdout",
     "output_type": "stream",
     "text": [
      "dog instance\n"
     ]
    }
   ],
   "source": [
    "barley = Dog()"
   ]
  },
  {
   "cell_type": "code",
   "execution_count": 28,
   "id": "b86dd857",
   "metadata": {},
   "outputs": [
    {
     "data": {
      "text/plain": [
       "35"
      ]
     },
     "execution_count": 28,
     "metadata": {},
     "output_type": "execute_result"
    }
   ],
   "source": [
    "barley.dogHumanAge"
   ]
  },
  {
   "cell_type": "code",
   "execution_count": null,
   "id": "341df75a",
   "metadata": {},
   "outputs": [],
   "source": []
  }
 ],
 "metadata": {
  "kernelspec": {
   "display_name": "Python 3 (ipykernel)",
   "language": "python",
   "name": "python3"
  },
  "language_info": {
   "codemirror_mode": {
    "name": "ipython",
    "version": 3
   },
   "file_extension": ".py",
   "mimetype": "text/x-python",
   "name": "python",
   "nbconvert_exporter": "python",
   "pygments_lexer": "ipython3",
   "version": "3.11.5"
  }
 },
 "nbformat": 4,
 "nbformat_minor": 5
}
