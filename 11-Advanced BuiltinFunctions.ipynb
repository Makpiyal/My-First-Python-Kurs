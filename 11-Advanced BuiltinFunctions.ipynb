{
 "cells": [
  {
   "cell_type": "code",
   "execution_count": 1,
   "id": "895ac4ff",
   "metadata": {},
   "outputs": [],
   "source": [
    "my_list = [10,20,30,40,50,60,70]"
   ]
  },
  {
   "cell_type": "code",
   "execution_count": 2,
   "id": "e24f8657",
   "metadata": {},
   "outputs": [
    {
     "name": "stdout",
     "output_type": "stream",
     "text": [
      "5.0\n",
      "10.0\n",
      "15.0\n",
      "20.0\n",
      "25.0\n",
      "30.0\n",
      "35.0\n"
     ]
    }
   ],
   "source": [
    "for num in my_list:\n",
    "    print(num /2)"
   ]
  },
  {
   "cell_type": "code",
   "execution_count": 3,
   "id": "76065db7",
   "metadata": {},
   "outputs": [],
   "source": [
    "#range"
   ]
  },
  {
   "cell_type": "code",
   "execution_count": 4,
   "id": "7a836f47",
   "metadata": {},
   "outputs": [
    {
     "data": {
      "text/plain": [
       "range(0, 50)"
      ]
     },
     "execution_count": 4,
     "metadata": {},
     "output_type": "execute_result"
    }
   ],
   "source": [
    "range(50)"
   ]
  },
  {
   "cell_type": "code",
   "execution_count": 5,
   "id": "ec5757db",
   "metadata": {},
   "outputs": [
    {
     "data": {
      "text/plain": [
       "[0,\n",
       " 1,\n",
       " 2,\n",
       " 3,\n",
       " 4,\n",
       " 5,\n",
       " 6,\n",
       " 7,\n",
       " 8,\n",
       " 9,\n",
       " 10,\n",
       " 11,\n",
       " 12,\n",
       " 13,\n",
       " 14,\n",
       " 15,\n",
       " 16,\n",
       " 17,\n",
       " 18,\n",
       " 19,\n",
       " 20,\n",
       " 21,\n",
       " 22,\n",
       " 23,\n",
       " 24,\n",
       " 25,\n",
       " 26,\n",
       " 27,\n",
       " 28,\n",
       " 29,\n",
       " 30,\n",
       " 31,\n",
       " 32,\n",
       " 33,\n",
       " 34,\n",
       " 35,\n",
       " 36,\n",
       " 37,\n",
       " 38,\n",
       " 39,\n",
       " 40,\n",
       " 41,\n",
       " 42,\n",
       " 43,\n",
       " 44,\n",
       " 45,\n",
       " 46,\n",
       " 47,\n",
       " 48,\n",
       " 49]"
      ]
     },
     "execution_count": 5,
     "metadata": {},
     "output_type": "execute_result"
    }
   ],
   "source": [
    "list(range(0,50))"
   ]
  },
  {
   "cell_type": "code",
   "execution_count": 6,
   "id": "12b617af",
   "metadata": {},
   "outputs": [
    {
     "name": "stdout",
     "output_type": "stream",
     "text": [
      "0\n",
      "2\n",
      "4\n",
      "6\n",
      "8\n",
      "10\n",
      "12\n",
      "14\n",
      "16\n",
      "18\n",
      "20\n",
      "22\n",
      "24\n",
      "26\n",
      "28\n",
      "30\n",
      "32\n",
      "34\n",
      "36\n",
      "38\n"
     ]
    }
   ],
   "source": [
    "for num in list(range(20)):\n",
    "    print(num * 2)"
   ]
  },
  {
   "cell_type": "code",
   "execution_count": 7,
   "id": "2609445c",
   "metadata": {},
   "outputs": [
    {
     "data": {
      "text/plain": [
       "[5, 6, 7, 8, 9, 10, 11, 12, 13, 14, 15, 16, 17, 18, 19, 20, 21, 22, 23, 24]"
      ]
     },
     "execution_count": 7,
     "metadata": {},
     "output_type": "execute_result"
    }
   ],
   "source": [
    "list(range(5,25))"
   ]
  },
  {
   "cell_type": "code",
   "execution_count": 8,
   "id": "2eeb7d87",
   "metadata": {},
   "outputs": [
    {
     "data": {
      "text/plain": [
       "[5, 7, 9, 11, 13, 15, 17, 19, 21, 23, 25, 27, 29]"
      ]
     },
     "execution_count": 8,
     "metadata": {},
     "output_type": "execute_result"
    }
   ],
   "source": [
    "list(range(5,30,2))"
   ]
  },
  {
   "cell_type": "code",
   "execution_count": 9,
   "id": "2cc81d00",
   "metadata": {},
   "outputs": [],
   "source": [
    "my_list = [20,30,40,50,60]"
   ]
  },
  {
   "cell_type": "code",
   "execution_count": 10,
   "id": "6a7ef3d3",
   "metadata": {},
   "outputs": [
    {
     "name": "stdout",
     "output_type": "stream",
     "text": [
      "20\n",
      "30\n",
      "40\n",
      "50\n",
      "60\n"
     ]
    }
   ],
   "source": [
    "for num in my_list:\n",
    "    print(num)"
   ]
  },
  {
   "cell_type": "code",
   "execution_count": 11,
   "id": "b80041e4",
   "metadata": {},
   "outputs": [
    {
     "name": "stdout",
     "output_type": "stream",
     "text": [
      "0\n",
      "1\n",
      "2\n",
      "3\n",
      "4\n"
     ]
    }
   ],
   "source": [
    "for ix in range(len(my_list)):\n",
    "    print(ix)"
   ]
  },
  {
   "cell_type": "code",
   "execution_count": 12,
   "id": "eb395c1c",
   "metadata": {},
   "outputs": [
    {
     "name": "stdout",
     "output_type": "stream",
     "text": [
      "20\n",
      "30\n",
      "40\n",
      "50\n",
      "60\n"
     ]
    }
   ],
   "source": [
    "for ix in range(len(my_list)):\n",
    "    print(my_list[ix])"
   ]
  },
  {
   "cell_type": "code",
   "execution_count": 13,
   "id": "330013f4",
   "metadata": {},
   "outputs": [],
   "source": [
    "#enumerate"
   ]
  },
  {
   "cell_type": "code",
   "execution_count": 14,
   "id": "9595e8f9",
   "metadata": {},
   "outputs": [
    {
     "name": "stdout",
     "output_type": "stream",
     "text": [
      "(0, 20)\n",
      "(1, 30)\n",
      "(2, 40)\n",
      "(3, 50)\n",
      "(4, 60)\n"
     ]
    }
   ],
   "source": [
    "for element in enumerate (my_list):\n",
    "    print(element)"
   ]
  },
  {
   "cell_type": "code",
   "execution_count": 15,
   "id": "c5ab8e53",
   "metadata": {},
   "outputs": [
    {
     "name": "stdout",
     "output_type": "stream",
     "text": [
      "0 20\n",
      "1 30\n",
      "2 40\n",
      "3 50\n",
      "4 60\n"
     ]
    }
   ],
   "source": [
    "for (ix,value) in enumerate(my_list):\n",
    "    print(ix,value)"
   ]
  },
  {
   "cell_type": "code",
   "execution_count": 16,
   "id": "67a5fa10",
   "metadata": {},
   "outputs": [],
   "source": [
    "#random"
   ]
  },
  {
   "cell_type": "code",
   "execution_count": 17,
   "id": "78059e40",
   "metadata": {},
   "outputs": [],
   "source": [
    "from random import randint"
   ]
  },
  {
   "cell_type": "code",
   "execution_count": 18,
   "id": "3a37ad8a",
   "metadata": {},
   "outputs": [
    {
     "data": {
      "text/plain": [
       "6"
      ]
     },
     "execution_count": 18,
     "metadata": {},
     "output_type": "execute_result"
    }
   ],
   "source": [
    "randint(0,10)"
   ]
  },
  {
   "cell_type": "code",
   "execution_count": 19,
   "id": "37adfcfc",
   "metadata": {},
   "outputs": [],
   "source": [
    "from random import shuffle"
   ]
  },
  {
   "cell_type": "code",
   "execution_count": 20,
   "id": "75dcb6fc",
   "metadata": {},
   "outputs": [
    {
     "data": {
      "text/plain": [
       "[20, 30, 40, 50, 60]"
      ]
     },
     "execution_count": 20,
     "metadata": {},
     "output_type": "execute_result"
    }
   ],
   "source": [
    "my_list"
   ]
  },
  {
   "cell_type": "code",
   "execution_count": 21,
   "id": "cea8adbf",
   "metadata": {},
   "outputs": [],
   "source": [
    "shuffle(my_list)"
   ]
  },
  {
   "cell_type": "code",
   "execution_count": 22,
   "id": "290879db",
   "metadata": {},
   "outputs": [
    {
     "data": {
      "text/plain": [
       "[20, 30, 40, 50, 60]"
      ]
     },
     "execution_count": 22,
     "metadata": {},
     "output_type": "execute_result"
    }
   ],
   "source": [
    "my_list"
   ]
  },
  {
   "cell_type": "code",
   "execution_count": 23,
   "id": "10aed511",
   "metadata": {},
   "outputs": [],
   "source": [
    "my_list = [10,20,30,40,50,60,70]"
   ]
  },
  {
   "cell_type": "code",
   "execution_count": 24,
   "id": "4d4fa20a",
   "metadata": {},
   "outputs": [
    {
     "data": {
      "text/plain": [
       "4"
      ]
     },
     "execution_count": 24,
     "metadata": {},
     "output_type": "execute_result"
    }
   ],
   "source": [
    "randint(0,len(my_list))"
   ]
  },
  {
   "cell_type": "code",
   "execution_count": 25,
   "id": "5eab48f2",
   "metadata": {},
   "outputs": [
    {
     "data": {
      "text/plain": [
       "40"
      ]
     },
     "execution_count": 25,
     "metadata": {},
     "output_type": "execute_result"
    }
   ],
   "source": [
    "my_list[randint(0,len(my_list)-1)]"
   ]
  },
  {
   "cell_type": "code",
   "execution_count": 26,
   "id": "ab3f423e",
   "metadata": {},
   "outputs": [
    {
     "name": "stdout",
     "output_type": "stream",
     "text": [
      "0\n",
      "1\n",
      "2\n",
      "3\n",
      "4\n",
      "5\n",
      "6\n"
     ]
    }
   ],
   "source": [
    "for ix in range(len(my_list)):\n",
    "    print(ix)\n",
    "    "
   ]
  },
  {
   "cell_type": "code",
   "execution_count": 29,
   "id": "6bdc2404",
   "metadata": {},
   "outputs": [
    {
     "name": "stdout",
     "output_type": "stream",
     "text": [
      "(0, 10)\n",
      "(1, 20)\n",
      "(2, 30)\n",
      "(3, 40)\n",
      "(4, 50)\n",
      "(5, 60)\n",
      "(6, 70)\n"
     ]
    }
   ],
   "source": [
    "for element in enumerate(my_list): # enumerate liste içindeki verileri index değerleri ile birlikte verir\n",
    "    print(element)"
   ]
  },
  {
   "cell_type": "code",
   "execution_count": 30,
   "id": "8a5724ca",
   "metadata": {},
   "outputs": [
    {
     "name": "stdout",
     "output_type": "stream",
     "text": [
      "(6, 70)\n",
      "(6, 70)\n",
      "(6, 70)\n",
      "(6, 70)\n",
      "(6, 70)\n",
      "(6, 70)\n",
      "(6, 70)\n"
     ]
    }
   ],
   "source": [
    "for (ix,value) in enumerate(my_list):\n",
    "    print(element)"
   ]
  },
  {
   "cell_type": "code",
   "execution_count": 33,
   "id": "aa3fa8f7",
   "metadata": {},
   "outputs": [
    {
     "name": "stdout",
     "output_type": "stream",
     "text": [
      "10\n",
      "20\n",
      "30\n",
      "40\n",
      "50\n",
      "60\n",
      "70\n"
     ]
    }
   ],
   "source": [
    "for(ix,value) in enumerate(my_list):\n",
    "    print(value)"
   ]
  },
  {
   "cell_type": "code",
   "execution_count": 39,
   "id": "33a3117d",
   "metadata": {},
   "outputs": [],
   "source": [
    "from random import randint # bu metod, rastgele sayı değeri alabilmemiz için kullanılır"
   ]
  },
  {
   "cell_type": "code",
   "execution_count": 42,
   "id": "e5f77181",
   "metadata": {
    "scrolled": true
   },
   "outputs": [
    {
     "data": {
      "text/plain": [
       "19"
      ]
     },
     "execution_count": 42,
     "metadata": {},
     "output_type": "execute_result"
    }
   ],
   "source": [
    "randint(0,100)"
   ]
  },
  {
   "cell_type": "code",
   "execution_count": 43,
   "id": "b5be1473",
   "metadata": {},
   "outputs": [
    {
     "data": {
      "text/plain": [
       "7"
      ]
     },
     "execution_count": 43,
     "metadata": {},
     "output_type": "execute_result"
    }
   ],
   "source": [
    "randint(0,20)"
   ]
  },
  {
   "cell_type": "code",
   "execution_count": 52,
   "id": "81a0ed39",
   "metadata": {},
   "outputs": [],
   "source": [
    "from random import shuffle # bu metod liste içindeki verileri karıştırır"
   ]
  },
  {
   "cell_type": "code",
   "execution_count": 53,
   "id": "8021d28f",
   "metadata": {},
   "outputs": [
    {
     "data": {
      "text/plain": [
       "[10, 20, 30, 40, 50, 60, 70]"
      ]
     },
     "execution_count": 53,
     "metadata": {},
     "output_type": "execute_result"
    }
   ],
   "source": [
    "my_list"
   ]
  },
  {
   "cell_type": "code",
   "execution_count": 54,
   "id": "78a7cf83",
   "metadata": {},
   "outputs": [],
   "source": [
    "shuffle(my_list)"
   ]
  },
  {
   "cell_type": "code",
   "execution_count": 55,
   "id": "febe5798",
   "metadata": {},
   "outputs": [
    {
     "data": {
      "text/plain": [
       "[50, 30, 10, 40, 20, 70, 60]"
      ]
     },
     "execution_count": 55,
     "metadata": {},
     "output_type": "execute_result"
    }
   ],
   "source": [
    "my_list"
   ]
  },
  {
   "cell_type": "code",
   "execution_count": 57,
   "id": "62e80d90",
   "metadata": {},
   "outputs": [],
   "source": [
    "shuffle(my_list)"
   ]
  },
  {
   "cell_type": "code",
   "execution_count": 58,
   "id": "599a6555",
   "metadata": {},
   "outputs": [
    {
     "data": {
      "text/plain": [
       "[30, 70, 60, 20, 10, 50, 40]"
      ]
     },
     "execution_count": 58,
     "metadata": {},
     "output_type": "execute_result"
    }
   ],
   "source": [
    "my_list"
   ]
  },
  {
   "cell_type": "code",
   "execution_count": 67,
   "id": "e18c16b5",
   "metadata": {},
   "outputs": [],
   "source": [
    "my_list = [10,20,30,40,50,60,70]"
   ]
  },
  {
   "cell_type": "code",
   "execution_count": 87,
   "id": "93786d7c",
   "metadata": {},
   "outputs": [
    {
     "data": {
      "text/plain": [
       "10"
      ]
     },
     "execution_count": 87,
     "metadata": {},
     "output_type": "execute_result"
    }
   ],
   "source": [
    "my_list[randint(0,len(my_list)-1)]"
   ]
  },
  {
   "cell_type": "code",
   "execution_count": 88,
   "id": "dfe8ffc7",
   "metadata": {},
   "outputs": [],
   "source": [
    "#zip birden fazla yapıyı sıkıştırmak için kullanılır. Liste gibi."
   ]
  },
  {
   "cell_type": "code",
   "execution_count": 89,
   "id": "8ad607ae",
   "metadata": {},
   "outputs": [],
   "source": [
    "food_list = [\"apple\",\"banana\",\"melon\"]"
   ]
  },
  {
   "cell_type": "code",
   "execution_count": 90,
   "id": "848fb9e7",
   "metadata": {},
   "outputs": [],
   "source": [
    "calorie_list = [100,150,200]"
   ]
  },
  {
   "cell_type": "code",
   "execution_count": 91,
   "id": "a6ed24a5",
   "metadata": {},
   "outputs": [],
   "source": [
    "day_list = [\"monday\", \"tuesday\",\"wednesday\"]"
   ]
  },
  {
   "cell_type": "code",
   "execution_count": 101,
   "id": "6efe1229",
   "metadata": {},
   "outputs": [],
   "source": [
    "zipped_list = list(zip(food_list, calorie_list, day_list))"
   ]
  },
  {
   "cell_type": "code",
   "execution_count": 102,
   "id": "87f02676",
   "metadata": {},
   "outputs": [
    {
     "data": {
      "text/plain": [
       "list"
      ]
     },
     "execution_count": 102,
     "metadata": {},
     "output_type": "execute_result"
    }
   ],
   "source": [
    "type(zipped_list)"
   ]
  },
  {
   "cell_type": "code",
   "execution_count": 98,
   "id": "1999d71d",
   "metadata": {},
   "outputs": [
    {
     "data": {
      "text/plain": [
       "[('apple', 100, 'monday'),\n",
       " ('banana', 150, 'tuesday'),\n",
       " ('melon', 200, 'wednesday')]"
      ]
     },
     "execution_count": 98,
     "metadata": {},
     "output_type": "execute_result"
    }
   ],
   "source": [
    "zipped_list"
   ]
  },
  {
   "cell_type": "code",
   "execution_count": 112,
   "id": "6fbd0e63",
   "metadata": {},
   "outputs": [],
   "source": [
    "mein_neu_list = []\n",
    "my_string = \"metallica\"\n",
    "for x in my_string:\n",
    "    mein_neu_list.append(x)\n",
    "    "
   ]
  },
  {
   "cell_type": "code",
   "execution_count": 113,
   "id": "c87faa80",
   "metadata": {},
   "outputs": [
    {
     "data": {
      "text/plain": [
       "['m', 'e', 't', 'a', 'l', 'l', 'i', 'c', 'a']"
      ]
     },
     "execution_count": 113,
     "metadata": {},
     "output_type": "execute_result"
    }
   ],
   "source": [
    "mein_neu_list"
   ]
  },
  {
   "cell_type": "code",
   "execution_count": 114,
   "id": "a23ed80b",
   "metadata": {},
   "outputs": [],
   "source": [
    "#list comprehension"
   ]
  },
  {
   "cell_type": "code",
   "execution_count": 115,
   "id": "96da76e8",
   "metadata": {},
   "outputs": [],
   "source": [
    "mein_neu_list = [element for element in my_string]"
   ]
  },
  {
   "cell_type": "code",
   "execution_count": 117,
   "id": "9ce711e4",
   "metadata": {},
   "outputs": [
    {
     "data": {
      "text/plain": [
       "['m', 'e', 't', 'a', 'l', 'l', 'i', 'c', 'a']"
      ]
     },
     "execution_count": 117,
     "metadata": {},
     "output_type": "execute_result"
    }
   ],
   "source": [
    "mein_neu_list"
   ]
  },
  {
   "cell_type": "code",
   "execution_count": 118,
   "id": "22ba7baf",
   "metadata": {},
   "outputs": [
    {
     "data": {
      "text/plain": [
       "'m'"
      ]
     },
     "execution_count": 118,
     "metadata": {},
     "output_type": "execute_result"
    }
   ],
   "source": [
    "mein_neu_list[0]"
   ]
  },
  {
   "cell_type": "code",
   "execution_count": 119,
   "id": "0d865883",
   "metadata": {},
   "outputs": [],
   "source": [
    "number_list = [10,20,30,40,50,60]"
   ]
  },
  {
   "cell_type": "code",
   "execution_count": 125,
   "id": "ec45164d",
   "metadata": {},
   "outputs": [],
   "source": [
    "new_number_list = [num/2 for num in number_list] "
   ]
  },
  {
   "cell_type": "code",
   "execution_count": 126,
   "id": "48a5d523",
   "metadata": {},
   "outputs": [
    {
     "data": {
      "text/plain": [
       "[5.0, 10.0, 15.0, 20.0, 25.0, 30.0]"
      ]
     },
     "execution_count": 126,
     "metadata": {},
     "output_type": "execute_result"
    }
   ],
   "source": [
    "new_number_list"
   ]
  },
  {
   "cell_type": "code",
   "execution_count": 127,
   "id": "84dff703",
   "metadata": {},
   "outputs": [],
   "source": [
    "new_number_list = []\n",
    "for num in number_list:\n",
    "    new_number_list.append(num/2)"
   ]
  },
  {
   "cell_type": "code",
   "execution_count": 128,
   "id": "b24356c3",
   "metadata": {},
   "outputs": [
    {
     "data": {
      "text/plain": [
       "[5.0, 10.0, 15.0, 20.0, 25.0, 30.0]"
      ]
     },
     "execution_count": 128,
     "metadata": {},
     "output_type": "execute_result"
    }
   ],
   "source": [
    "new_number_list"
   ]
  },
  {
   "cell_type": "code",
   "execution_count": 129,
   "id": "47a7c4b0",
   "metadata": {},
   "outputs": [],
   "source": [
    "my_dictionary = {\"k1\":10,\"k2k\":\"a\",\"k32\":30,\"k4\":\"c\"}"
   ]
  },
  {
   "cell_type": "code",
   "execution_count": 140,
   "id": "34025eef",
   "metadata": {},
   "outputs": [
    {
     "name": "stdout",
     "output_type": "stream",
     "text": [
      "10\n",
      "a\n",
      "30\n",
      "c\n",
      "c harfi bulundu\n"
     ]
    }
   ],
   "source": [
    "for x in my_dictionary.values():\n",
    "    print(x)\n",
    "    if x == \"c\":\n",
    "        print(\"c harfi bulundu\")"
   ]
  },
  {
   "cell_type": "code",
   "execution_count": null,
   "id": "c83275a8",
   "metadata": {},
   "outputs": [],
   "source": []
  }
 ],
 "metadata": {
  "kernelspec": {
   "display_name": "Python 3 (ipykernel)",
   "language": "python",
   "name": "python3"
  },
  "language_info": {
   "codemirror_mode": {
    "name": "ipython",
    "version": 3
   },
   "file_extension": ".py",
   "mimetype": "text/x-python",
   "name": "python",
   "nbconvert_exporter": "python",
   "pygments_lexer": "ipython3",
   "version": "3.11.5"
  }
 },
 "nbformat": 4,
 "nbformat_minor": 5
}
